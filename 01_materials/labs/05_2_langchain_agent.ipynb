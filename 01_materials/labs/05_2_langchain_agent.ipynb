{
 "cells": [
  {
   "cell_type": "code",
   "execution_count": 1,
   "id": "84c23d93",
   "metadata": {},
   "outputs": [],
   "source": [
    "%load_ext dotenv\n",
    "%dotenv ../../05_src/.secrets"
   ]
  },
  {
   "cell_type": "markdown",
   "id": "9b069082",
   "metadata": {},
   "source": [
    "# Introduction to LangGraph\n",
    "\n",
    "LangGraph is a low-level agent orchestration framework. It integrates with LangChain, but can also operate without it. \n",
    "\n",
    "We will build a graph to demonstrate how LangGraph integrates different models and tools.\n",
    "\n",
    "There are six steps in this demo which is roughly based on [LangGraph's Quickstart](https://docs.langchain.com/oss/python/langgraph/quickstart):\n",
    "\n",
    "1. Define tools and models\n",
    "2. Define state\n",
    "3. Define model node\n",
    "4. Deine tool node\n",
    "5. Define end logic\n",
    "6. Build and compile the agent"
   ]
  },
  {
   "cell_type": "markdown",
   "id": "c94d489d",
   "metadata": {},
   "source": [
    "# Define tools and model\n",
    "\n",
    "We will use an OpenAI model and a tools that query public APIs to illustrate tools usage. \n",
    "\n",
    "The APIs are:\n",
    "- [Meowfacts API](https://github.com/wh-iterabb-it/meowfacts)\n",
    "- [Dog Facts API](https://kinduff.github.io/dog-api/)"
   ]
  },
  {
   "cell_type": "markdown",
   "id": "95d360b9",
   "metadata": {},
   "source": [
    "Start by initializing a [chat model](https://docs.langchain.com/oss/python/langchain/models#initialize-a-model) in LangChain. "
   ]
  },
  {
   "cell_type": "code",
   "execution_count": 2,
   "id": "9d6aa598",
   "metadata": {},
   "outputs": [],
   "source": [
    "from langchain.chat_models import init_chat_model\n",
    "model = init_chat_model(\n",
    "    \"openai:gpt-4o-mini\",\n",
    "    temperature=0.7\n",
    ")"
   ]
  },
  {
   "cell_type": "markdown",
   "id": "05ac0ea7",
   "metadata": {},
   "source": [
    "The model component can directly be used, however we will make it part of a larger object called a Graph."
   ]
  },
  {
   "cell_type": "code",
   "execution_count": 3,
   "id": "580ddeb4",
   "metadata": {},
   "outputs": [],
   "source": [
    "response = model.invoke(\"Why do parrots talk?\")"
   ]
  },
  {
   "cell_type": "code",
   "execution_count": 5,
   "id": "138f6b2e",
   "metadata": {},
   "outputs": [
    {
     "data": {
      "text/plain": [
       "AIMessage(content='Parrots talk primarily as a part of their social behavior. In the wild, parrots are highly social birds that live in flocks. They communicate with each other using a variety of vocalizations, which helps them establish social bonds, warn of danger, and coordinate activities within the group.\\n\\nWhen parrots are kept as pets, they may mimic human speech as a way to communicate with their human companions. This behavior can stem from several factors:\\n\\n1. **Social Interaction**: Parrots are naturally inclined to mimic sounds they hear in their environment, including human voices. They may perceive their human caregivers as part of their flock and try to engage with them through vocalization.\\n\\n2. **Attention Seeking**: Parrots often learn to talk or mimic sounds to gain attention from their owners. If they receive positive reinforcement, such as praise or treats, when they mimic words or phrases, they are likely to continue the behavior.\\n\\n3. **Cognitive Ability**: Parrots possess advanced cognitive skills and are capable of learning and remembering a wide range of sounds. This ability allows them to mimic speech patterns and even use words in context, especially if they have been trained or socialized properly.\\n\\n4. **Enrichment and Stimulation**: Talking can also serve as a form of mental stimulation for parrots. Engaging in vocal mimicry can help keep them entertained and mentally active.\\n\\nOverall, talking is an extension of their natural communication skills adapted to their environment, whether in the wild or as pets.', additional_kwargs={'refusal': None}, response_metadata={'token_usage': {'completion_tokens': 301, 'prompt_tokens': 13, 'total_tokens': 314, 'completion_tokens_details': {'accepted_prediction_tokens': 0, 'audio_tokens': 0, 'reasoning_tokens': 0, 'rejected_prediction_tokens': 0}, 'prompt_tokens_details': {'audio_tokens': 0, 'cached_tokens': 0}}, 'model_name': 'gpt-4o-mini-2024-07-18', 'system_fingerprint': 'fp_560af6e559', 'id': 'chatcmpl-CWW35EPwfm56sFMWgIt3DgBDwPOHL', 'service_tier': 'default', 'finish_reason': 'stop', 'logprobs': None}, id='run--3c0c8a73-78b8-4c18-ba46-c1502577fcb0-0', usage_metadata={'input_tokens': 13, 'output_tokens': 301, 'total_tokens': 314, 'input_token_details': {'audio': 0, 'cache_read': 0}, 'output_token_details': {'audio': 0, 'reasoning': 0}})"
      ]
     },
     "execution_count": 5,
     "metadata": {},
     "output_type": "execute_result"
    }
   ],
   "source": [
    "response"
   ]
  },
  {
   "cell_type": "code",
   "execution_count": 4,
   "id": "e4e73623",
   "metadata": {},
   "outputs": [
    {
     "data": {
      "text/plain": [
       "{'lc': 1,\n",
       " 'type': 'constructor',\n",
       " 'id': ['langchain', 'schema', 'messages', 'AIMessage'],\n",
       " 'kwargs': {'content': 'Parrots talk primarily as a part of their social behavior. In the wild, parrots are highly social birds that live in flocks. They communicate with each other using a variety of vocalizations, which helps them establish social bonds, warn of danger, and coordinate activities within the group.\\n\\nWhen parrots are kept as pets, they may mimic human speech as a way to communicate with their human companions. This behavior can stem from several factors:\\n\\n1. **Social Interaction**: Parrots are naturally inclined to mimic sounds they hear in their environment, including human voices. They may perceive their human caregivers as part of their flock and try to engage with them through vocalization.\\n\\n2. **Attention Seeking**: Parrots often learn to talk or mimic sounds to gain attention from their owners. If they receive positive reinforcement, such as praise or treats, when they mimic words or phrases, they are likely to continue the behavior.\\n\\n3. **Cognitive Ability**: Parrots possess advanced cognitive skills and are capable of learning and remembering a wide range of sounds. This ability allows them to mimic speech patterns and even use words in context, especially if they have been trained or socialized properly.\\n\\n4. **Enrichment and Stimulation**: Talking can also serve as a form of mental stimulation for parrots. Engaging in vocal mimicry can help keep them entertained and mentally active.\\n\\nOverall, talking is an extension of their natural communication skills adapted to their environment, whether in the wild or as pets.',\n",
       "  'additional_kwargs': {'refusal': None},\n",
       "  'response_metadata': {'token_usage': {'completion_tokens': 301,\n",
       "    'prompt_tokens': 13,\n",
       "    'total_tokens': 314,\n",
       "    'completion_tokens_details': {'accepted_prediction_tokens': 0,\n",
       "     'audio_tokens': 0,\n",
       "     'reasoning_tokens': 0,\n",
       "     'rejected_prediction_tokens': 0},\n",
       "    'prompt_tokens_details': {'audio_tokens': 0, 'cached_tokens': 0}},\n",
       "   'model_name': 'gpt-4o-mini-2024-07-18',\n",
       "   'system_fingerprint': 'fp_560af6e559',\n",
       "   'id': 'chatcmpl-CWW35EPwfm56sFMWgIt3DgBDwPOHL',\n",
       "   'service_tier': 'default',\n",
       "   'finish_reason': 'stop',\n",
       "   'logprobs': None},\n",
       "  'type': 'ai',\n",
       "  'id': 'run--3c0c8a73-78b8-4c18-ba46-c1502577fcb0-0',\n",
       "  'usage_metadata': {'input_tokens': 13,\n",
       "   'output_tokens': 301,\n",
       "   'total_tokens': 314,\n",
       "   'input_token_details': {'audio': 0, 'cache_read': 0},\n",
       "   'output_token_details': {'audio': 0, 'reasoning': 0}},\n",
       "  'tool_calls': [],\n",
       "  'invalid_tool_calls': []}}"
      ]
     },
     "execution_count": 4,
     "metadata": {},
     "output_type": "execute_result"
    }
   ],
   "source": [
    "response.to_json()"
   ]
  },
  {
   "cell_type": "code",
   "execution_count": 7,
   "id": "3b98add8",
   "metadata": {},
   "outputs": [],
   "source": [
    "def get_cat_facts(n:int=1):\n",
    "    \"\"\"\n",
    "    Returns n cat facts from the Meowfacts API.\n",
    "    \"\"\"\n",
    "    url = \"https://meowfacts.herokuapp.com/\"\n",
    "    params = {\n",
    "        \"count\": n\n",
    "    }\n",
    "    response = requests.get(url, params=params)\n",
    "    resp_dict = json.loads(response.text)\n",
    "    facts_list = resp_dict.get(\"data\", [])\n",
    "    facts = \"\\n\".join([f\"{i+1}. {fact}\\n\" for i, fact in enumerate(facts_list)])\n",
    "    return facts"
   ]
  },
  {
   "cell_type": "code",
   "execution_count": 8,
   "id": "dcbd6f6f",
   "metadata": {},
   "outputs": [
    {
     "data": {
      "text/plain": [
       "\"1. A cat can spend five or more hours a day grooming himself.\\n\\n2. When well treated, a cat can live twenty or more years but the average life span of a domestic cat is 14 years.\\n\\n3. Besides smelling with their nose, cats can smell with an additional organ called the Jacobson's organ, located in the upper surface of the mouth.\\n\\n4. In 1987 cats overtook dogs as the number one pet in America.\\n\""
      ]
     },
     "execution_count": 8,
     "metadata": {},
     "output_type": "execute_result"
    }
   ],
   "source": [
    "get_cat_facts(4)"
   ]
  },
  {
   "cell_type": "markdown",
   "id": "b89daac1",
   "metadata": {},
   "source": [
    "Using LangChain, define tools. Notice the `@tool` decorator on each key function definition."
   ]
  },
  {
   "cell_type": "code",
   "execution_count": 6,
   "id": "1574a191",
   "metadata": {},
   "outputs": [],
   "source": [
    "from langchain.tools import tool\n",
    "import requests\n",
    "import json\n",
    "\n",
    "@tool\n",
    "def get_cat_facts(n:int=1):\n",
    "    \"\"\"\n",
    "    Returns n cat facts from the Meowfacts API.\n",
    "    \"\"\"\n",
    "    url = \"https://meowfacts.herokuapp.com/\"\n",
    "    params = {\n",
    "        \"count\": n\n",
    "    }\n",
    "    response = requests.get(url, params=params)\n",
    "    resp_dict = json.loads(response.text)\n",
    "    facts_list = resp_dict.get(\"data\", [])\n",
    "    facts = \"\\n\".join([f\"{i+1}. {fact}\\n\" for i, fact in enumerate(facts_list)])\n",
    "    return facts\n",
    "\n",
    "@tool\n",
    "def get_dog_facts(n:int=1):\n",
    "    \"\"\"\n",
    "    Returns n dog facts from the Dog API.\n",
    "    \"\"\"\n",
    "    url = \"http://dogapi.dog/api/v2/facts\"\n",
    "    params = {\n",
    "        \"limit\": n\n",
    "    }\n",
    "    response = requests.get(url, params=params)\n",
    "    resp_dict = json.loads(response.text)\n",
    "    facts_list = resp_dict.get(\"data\", [])\n",
    "    facts = \"\\n\".join([f\"{i+1}. {fact['attributes']['body']}\\n\" for i, fact in enumerate(facts_list)])\n",
    "    return facts\n",
    "\n",
    "\n",
    "# Augment the LLM with tools\n",
    "tools = [get_cat_facts, get_dog_facts]\n",
    "tools_by_name = {tool.name: tool for tool in tools}\n",
    "model_with_tools = model.bind_tools(tools)"
   ]
  },
  {
   "cell_type": "markdown",
   "id": "d88cde3b",
   "metadata": {},
   "source": [
    "# Define state\n",
    "\n",
    "The graph's state is used to store:\n",
    "\n",
    "+ The message history.\n",
    "+ The number of LLM calls.\n",
    "\n",
    "This is an extension of `langgraph.MessagesState`, which does not store the number of LLM calls. The [`Annotated`](https://docs.python.org/3/library/typing.html#typing.Annotated) type with [`operator.add`](https://docs.python.org/3/library/operator.html#module-operator) ensures that new messages are appended to the existing list rather than replacing it."
   ]
  },
  {
   "cell_type": "code",
   "execution_count": 9,
   "id": "7a6d9b11",
   "metadata": {},
   "outputs": [],
   "source": [
    "from langchain_core.messages import AnyMessage\n",
    "from typing_extensions import TypedDict, Annotated\n",
    "import operator\n",
    "\n",
    "\n",
    "class MessagesState(TypedDict):\n",
    "    messages: Annotated[list[AnyMessage], operator.add]\n",
    "    llm_calls: int"
   ]
  },
  {
   "cell_type": "markdown",
   "id": "53adbee6",
   "metadata": {},
   "source": [
    "# Define Model Node\n",
    "\n",
    "The model node is used to call the LLM and decide wheter to call the tool or not."
   ]
  },
  {
   "cell_type": "code",
   "execution_count": 10,
   "id": "0b02e770",
   "metadata": {},
   "outputs": [],
   "source": [
    "from langchain_core.messages import SystemMessage\n",
    "\n",
    "\n",
    "def llm_call(state: dict):\n",
    "    \"\"\"LLM decides whether to call a tool or not\"\"\"\n",
    "    return {\n",
    "        \"messages\": [\n",
    "            model_with_tools.invoke(\n",
    "                [\n",
    "                    SystemMessage(\n",
    "                        content=\"You are a helpful assistant tasked with stating interesting and fun facts about cats and dogs.\"\n",
    "                    )\n",
    "                ]\n",
    "                + state[\"messages\"]\n",
    "            )\n",
    "        ],\n",
    "        \"llm_calls\": state.get('llm_calls', 0) + 1\n",
    "    }"
   ]
  },
  {
   "cell_type": "markdown",
   "id": "b66b3525",
   "metadata": {},
   "source": [
    "# Define Tool Node\n",
    "\n",
    "The tool node is used to call the tools and return the results."
   ]
  },
  {
   "cell_type": "code",
   "execution_count": 11,
   "id": "ac415a6a",
   "metadata": {},
   "outputs": [],
   "source": [
    "from langchain_core.messages import ToolMessage\n",
    "\n",
    "\n",
    "def tool_node(state: dict):\n",
    "    \"\"\"Performs the tool call\"\"\"\n",
    "\n",
    "    result = []\n",
    "    for tool_call in state[\"messages\"][-1].tool_calls:\n",
    "        tool = tools_by_name[tool_call[\"name\"]]\n",
    "        observation = tool.invoke(tool_call[\"args\"])\n",
    "        result.append(ToolMessage(content=observation, tool_call_id=tool_call[\"id\"]))\n",
    "    return {\"messages\": result}"
   ]
  },
  {
   "cell_type": "markdown",
   "id": "8f5929fa",
   "metadata": {},
   "source": [
    "# Define End Logic\n",
    "\n",
    "The conditional edge function is used to route to the tool node or end based upon whether the LLM made a tool call."
   ]
  },
  {
   "cell_type": "code",
   "execution_count": 12,
   "id": "453bf397",
   "metadata": {},
   "outputs": [],
   "source": [
    "from typing import Literal\n",
    "from langgraph.graph import StateGraph, START, END\n",
    "\n",
    "\n",
    "def should_continue(state: MessagesState) -> Literal[\"tool_node\", END]:\n",
    "    \"\"\"Decide if we should continue the loop or stop based upon whether the LLM made a tool call\"\"\"\n",
    "\n",
    "    messages = state[\"messages\"]\n",
    "    last_message = messages[-1]\n",
    "\n",
    "    # If the LLM makes a tool call, then perform an action\n",
    "    if last_message.tool_calls:\n",
    "        return \"tool_node\"\n",
    "\n",
    "    # Otherwise, we stop (reply to the user)\n",
    "    return END"
   ]
  },
  {
   "cell_type": "markdown",
   "id": "53d46f73",
   "metadata": {},
   "source": [
    "# Build and Compile the Agent\n",
    "\n",
    "The agent is built using the [`StateGraph`](https://reference.langchain.com/python/langgraph/graphs/?_gl=1*z2scpt*_gcl_au*MTczODQwMTgwNC4xNzU5MjU2OTcw*_ga*NDE4MTM5NDc2LjE3NTkyNTY5NzA.*_ga_47WX3HKKY2*czE3NjE0MjEyMDQkbzMyJGcxJHQxNzYxNDI0MTcxJGoxOCRsMCRoMA..#langgraph.graph.state.StateGraph) class and compiled using the [`compile`](https://reference.langchain.com/python/langgraph/graphs/?_gl=1*1dnnqxy*_gcl_au*MTczODQwMTgwNC4xNzU5MjU2OTcw*_ga*NDE4MTM5NDc2LjE3NTkyNTY5NzA.*_ga_47WX3HKKY2*czE3NjE0MjkwMjUkbzMzJGcwJHQxNzYxNDI5MDI1JGo2MCRsMCRoMA..#langgraph.graph.state.StateGraph.compile) method."
   ]
  },
  {
   "cell_type": "code",
   "execution_count": 13,
   "id": "03be419b",
   "metadata": {},
   "outputs": [
    {
     "data": {
      "image/png": "[encoded data removed]",
      "text/plain": [
       "<IPython.core.display.Image object>"
      ]
     },
     "metadata": {},
     "output_type": "display_data"
    }
   ],
   "source": [
    "# Build workflow\n",
    "agent_builder = StateGraph(MessagesState)\n",
    "\n",
    "# Add nodes\n",
    "agent_builder.add_node(\"llm_call\", llm_call)\n",
    "agent_builder.add_node(\"tool_node\", tool_node)\n",
    "\n",
    "# Add edges to connect nodes\n",
    "agent_builder.add_edge(START, \"llm_call\")\n",
    "agent_builder.add_conditional_edges(\n",
    "    \"llm_call\",\n",
    "    should_continue,\n",
    "    [\"tool_node\", END]\n",
    ")\n",
    "agent_builder.add_edge(\"tool_node\", \"llm_call\")\n",
    "\n",
    "# Compile the agent\n",
    "agent = agent_builder.compile()\n",
    "\n",
    "# Show the agent\n",
    "from IPython.display import Image, display\n",
    "display(Image(agent.get_graph(xray=True).draw_mermaid_png()))\n",
    "\n"
   ]
  },
  {
   "cell_type": "markdown",
   "id": "846bdc9b",
   "metadata": {},
   "source": [
    "We can run the model as follows:"
   ]
  },
  {
   "cell_type": "code",
   "execution_count": 14,
   "id": "492f8cab",
   "metadata": {},
   "outputs": [
    {
     "name": "stdout",
     "output_type": "stream",
     "text": [
      "================================\u001b[1m Human Message \u001b[0m=================================\n",
      "\n",
      "Tell me 3 things about cats.\n",
      "================================\u001b[1m Human Message \u001b[0m=================================\n",
      "\n",
      "Now tell me 2 things about dogs.\n",
      "==================================\u001b[1m Ai Message \u001b[0m==================================\n",
      "Tool Calls:\n",
      "  get_cat_facts (call_fOEXhoQFXqWlaJBojhHJopKZ)\n",
      " Call ID: call_fOEXhoQFXqWlaJBojhHJopKZ\n",
      "  Args:\n",
      "    n: 3\n",
      "  get_dog_facts (call_wDNS8IEZIrGYMnxSluthS9vD)\n",
      " Call ID: call_wDNS8IEZIrGYMnxSluthS9vD\n",
      "  Args:\n",
      "    n: 2\n",
      "=================================\u001b[1m Tool Message \u001b[0m=================================\n",
      "\n",
      "1. Many people fear catching a protozoan disease, Toxoplasmosis, from cats. This disease can cause illness in the human, but more seriously, can cause birth defects in the unborn. Toxoplasmosis is a common disease, sometimes spread through the feces of cats. It is caused most often from eating raw or rare beef. Pregnant women and people with a depressed immune system should not touch the cat litter box. Other than that, there is no reason that these people have to avoid cats.\n",
      "\n",
      "2. Siamese kittens are born white because of the heat inside the mother's uterus before birth. This heat keeps the kittens' hair from darkening on the points.\n",
      "\n",
      "3. Cats are the most popular pet in the United States: There are 88 million pet cats and 74 million dogs.\n",
      "\n",
      "=================================\u001b[1m Tool Message \u001b[0m=================================\n",
      "\n",
      "1. The breed of dog with the best sense of smell is the bloodhound.\n",
      "\n",
      "2. More than one in three U.S. families owns a dog.\n",
      "\n",
      "==================================\u001b[1m Ai Message \u001b[0m==================================\n",
      "\n",
      "### Interesting Facts About Cats:\n",
      "1. Many people fear catching a protozoan disease called Toxoplasmosis from cats. This disease can cause illness in humans and, more seriously, birth defects in the unborn. It is commonly spread through cat feces, but is most often contracted from eating raw or rare beef. Pregnant women and those with a depressed immune system should avoid handling cat litter but do not need to avoid cats entirely.\n",
      "   \n",
      "2. Siamese kittens are born white due to the heat inside their mother's uterus, which prevents their hair from darkening on the points until they are exposed to cooler temperatures after birth.\n",
      "\n",
      "3. Cats are the most popular pet in the United States, with approximately 88 million pet cats compared to 74 million dogs.\n",
      "\n",
      "### Interesting Facts About Dogs:\n",
      "1. The breed of dog with the best sense of smell is the bloodhound, known for its incredible tracking abilities.\n",
      "\n",
      "2. More than one in three U.S. families owns a dog, making them one of the most beloved pets in the country.\n"
     ]
    }
   ],
   "source": [
    "# Invoke\n",
    "from langchain_core.messages import HumanMessage\n",
    "messages = [HumanMessage(content=\"Tell me 3 things about cats.\"), HumanMessage(content=\"Now tell me 2 things about dogs.\")]\n",
    "messages = agent.invoke({\"messages\": messages})\n",
    "for m in messages[\"messages\"]:\n",
    "    m.pretty_print()"
   ]
  }
 ],
 "metadata": {
  "kernelspec": {
   "display_name": "deploying-ai-env",
   "language": "python",
   "name": "python3"
  },
  "language_info": {
   "codemirror_mode": {
    "name": "ipython",
    "version": 3
   },
   "file_extension": ".py",
   "mimetype": "text/x-python",
   "name": "python",
   "nbconvert_exporter": "python",
   "pygments_lexer": "ipython3",
   "version": "3.12.12"
  }
 },
 "nbformat": 4,
 "nbformat_minor": 5
}
