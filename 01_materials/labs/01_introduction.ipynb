{
 "cells": [
  {
   "cell_type": "markdown",
   "id": "9e6711f7",
   "metadata": {},
   "source": [
    "# Introduction"
   ]
  },
  {
   "cell_type": "markdown",
   "id": "fe804593",
   "metadata": {},
   "source": [
    "## APIs\n",
    "\n"
   ]
  },
  {
   "cell_type": "markdown",
   "id": "a712f76e",
   "metadata": {},
   "source": [
    "## Preliminaries\n",
    "\n"
   ]
  },
  {
   "cell_type": "markdown",
   "id": "02e30d88",
   "metadata": {},
   "source": [
    "### Use a Logger\n",
    "\n",
    "- Allows observability and retains your logs.\n",
    "- Log formats are customizable and you can include items like timestamp, module, function, line number, and so on.\n",
    "- Log level is also customizable:\n",
    "\n",
    "    + INFO for regular operations.\n",
    "    + DEBUG for development.\n",
    "    + ERROR and WARNING will be logged.\n",
    "\n",
    "- Useful documents on logging:\n",
    "\n",
    "    - [Python logging library](https://docs.python.org/3/library/logging.html).\n",
    "    - [Real Python: Logging](https://realpython.com/python-logging/).\n",
    "    - [The Hitchhiker's Guide to Python: Logging](https://docs.python-guide.org/writing/logging/)."
   ]
  },
  {
   "cell_type": "code",
   "execution_count": null,
   "id": "73bd2169",
   "metadata": {},
   "outputs": [],
   "source": [
    "from utils.logger import get_logger\n",
    "_logs = get_logger(__name__, log_dir='../../06_logs/')"
   ]
  },
  {
   "cell_type": "code",
   "execution_count": null,
   "id": "da49a967",
   "metadata": {},
   "outputs": [],
   "source": [
    "_logs.info('This is a log message.')"
   ]
  },
  {
   "cell_type": "markdown",
   "id": "fca2330f",
   "metadata": {},
   "source": [
    "### Update System Path"
   ]
  },
  {
   "cell_type": "markdown",
   "id": "fe751dbe",
   "metadata": {},
   "source": [
    "- Add system path.\n",
    "- This allows us to reutilize our modules in this notebook.\n",
    "- We may want to avoid duplication."
   ]
  },
  {
   "cell_type": "code",
   "execution_count": null,
   "id": "6accefb4",
   "metadata": {},
   "outputs": [],
   "source": [
    "import sys\n",
    "sys.path.append('../../05_src/')"
   ]
  },
  {
   "cell_type": "markdown",
   "id": "ab3f0942",
   "metadata": {},
   "source": [
    "### Loading Environment Variables"
   ]
  },
  {
   "cell_type": "code",
   "execution_count": null,
   "id": "71fc7085",
   "metadata": {},
   "outputs": [],
   "source": [
    "from dotenv import load_dotenv\n",
    "load_dotenv('../../05_src/.secrets')"
   ]
  },
  {
   "cell_type": "markdown",
   "id": "328dd79e",
   "metadata": {},
   "source": [
    "# Hello World!"
   ]
  },
  {
   "cell_type": "code",
   "execution_count": null,
   "id": "9fecd195",
   "metadata": {},
   "outputs": [],
   "source": [
    "from openai import OpenAI"
   ]
  },
  {
   "cell_type": "code",
   "execution_count": null,
   "id": "5261a7d1",
   "metadata": {},
   "outputs": [],
   "source": [
    "client = OpenAI()\n",
    "\n",
    "response = client.responses.create(\n",
    "    model = 'gpt-4o',\n",
    "    input = 'Hello world!',\n",
    ")"
   ]
  },
  {
   "cell_type": "code",
   "execution_count": null,
   "id": "05951acf",
   "metadata": {},
   "outputs": [],
   "source": [
    "response.to_dict()"
   ]
  },
  {
   "cell_type": "code",
   "execution_count": null,
   "id": "7e6a3c88",
   "metadata": {},
   "outputs": [],
   "source": [
    "type(response.output)\n",
    "response.output[0].content[0].text"
   ]
  },
  {
   "cell_type": "markdown",
   "id": "150e68af",
   "metadata": {},
   "source": [
    "# Longer Context"
   ]
  },
  {
   "cell_type": "markdown",
   "id": "f829ef4f",
   "metadata": {},
   "source": [
    "- Let's try to add more context to our prompt.\n",
    "- Python's [request](https://pypi.org/project/requests/) library and [documentation](https://requests.readthedocs.io/en/latest/).\n"
   ]
  },
  {
   "cell_type": "code",
   "execution_count": null,
   "id": "44042a32",
   "metadata": {},
   "outputs": [],
   "source": [
    "import requests\n",
    "file_url = 'https://www.gutenberg.org/cache/epub/204/pg204.txt'\n",
    "book = requests.get(file_url)"
   ]
  },
  {
   "cell_type": "code",
   "execution_count": null,
   "id": "3d5781e5",
   "metadata": {},
   "outputs": [],
   "source": [
    "dict(book.headers)"
   ]
  },
  {
   "cell_type": "code",
   "execution_count": null,
   "id": "484ffc16",
   "metadata": {},
   "outputs": [],
   "source": [
    "print(book.text)"
   ]
  },
  {
   "cell_type": "code",
   "execution_count": null,
   "id": "2c3aa66f",
   "metadata": {},
   "outputs": [],
   "source": [
    "prompt = f\"\"\"\n",
    "    You are a literary historian. \n",
    "    Given the following context from a book, please summarize it in a concise manner. \n",
    "    Use no more than 4 sentences. \n",
    "    The book is the following: \\n {book.text}\n",
    "\"\"\""
   ]
  },
  {
   "cell_type": "code",
   "execution_count": null,
   "id": "1dad9872",
   "metadata": {},
   "outputs": [],
   "source": [
    "response = client.responses.create(\n",
    "    model = 'gpt-4o',\n",
    "    input = prompt,\n",
    ")\n",
    "response.output[0].content[0].text"
   ]
  },
  {
   "cell_type": "code",
   "execution_count": null,
   "id": "86928b2a",
   "metadata": {},
   "outputs": [],
   "source": [
    "print(response.output[0].content[0].text)"
   ]
  }
 ],
 "metadata": {
  "kernelspec": {
   "display_name": "dsi_deploying_ai (3.12.7)",
   "language": "python",
   "name": "python3"
  },
  "language_info": {
   "codemirror_mode": {
    "name": "ipython",
    "version": 3
   },
   "file_extension": ".py",
   "mimetype": "text/x-python",
   "name": "python",
   "nbconvert_exporter": "python",
   "pygments_lexer": "ipython3",
   "version": "3.12.7"
  }
 },
 "nbformat": 4,
 "nbformat_minor": 5
}
