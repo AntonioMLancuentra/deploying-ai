{
 "cells": [
  {
   "cell_type": "code",
   "execution_count": 1,
   "id": "2efdd8cd",
   "metadata": {},
   "outputs": [],
   "source": [
    "from sklearn.feature_extraction.text import TfidfVectorizer\n",
    "from sklearn.metrics.pairwise import cosine_similarity\n",
    "\n",
    "documents = [\n",
    "    \"Freedom consists not in doing what we like, but in having the right to do what we ought.\",\n",
    "    \"Those who deny freedom to others deserve it not for themselves.\",\n",
    "    \"Liberty, when it begins to take root, is a plant of rapid growth.\",\n",
    "    \"Freedom lies in being bold.\",\n",
    "    \"Is freedom anything else than the right to live as we wish?\",\n",
    "    \"I am no bird and no net ensnares me: I am a free human being with an independent will.\",\n",
    "    \"The secret to happiness is freedom... And the secret to freedom is courage.\"\n",
    "    \"Freedom is the oxygen of the soul.\", \n",
    "    \"Life without liberty is like a body without spirit.\"\n",
    "]\n",
    "\n",
    "vectorizer = TfidfVectorizer()\n",
    "X = vectorizer.fit_transform(documents)"
   ]
  },
  {
   "cell_type": "code",
   "execution_count": 3,
   "id": "f489afb1",
   "metadata": {},
   "outputs": [
    {
     "data": {
      "text/plain": [
       "array([[0.        , 0.        , 0.        , 0.        , 0.        ,\n",
       "        0.        , 0.        , 0.        , 0.        , 0.        ,\n",
       "        0.23014865, 0.23014865, 0.        , 0.        , 0.        ,\n",
       "        0.23014865, 0.23014865, 0.        , 0.        , 0.        ,\n",
       "        0.        , 0.12917568, 0.        , 0.        , 0.23014865,\n",
       "        0.        , 0.38576507, 0.        , 0.        , 0.        ,\n",
       "        0.        , 0.        , 0.        , 0.19288253, 0.        ,\n",
       "        0.        , 0.        , 0.        , 0.19288253, 0.        ,\n",
       "        0.        , 0.23014865, 0.        , 0.        , 0.        ,\n",
       "        0.19288253, 0.        , 0.        , 0.        , 0.        ,\n",
       "        0.        , 0.        , 0.1664418 , 0.        , 0.        ,\n",
       "        0.12917568, 0.38576507, 0.46029731, 0.        , 0.        ,\n",
       "        0.        , 0.        , 0.        , 0.        ],\n",
       "       [0.        , 0.        , 0.        , 0.        , 0.        ,\n",
       "        0.        , 0.        , 0.        , 0.        , 0.        ,\n",
       "        0.        , 0.        , 0.        , 0.33269077, 0.33269077,\n",
       "        0.        , 0.        , 0.        , 0.        , 0.33269077,\n",
       "        0.        , 0.18672956, 0.        , 0.        , 0.        ,\n",
       "        0.        , 0.        , 0.        , 0.        , 0.27882083,\n",
       "        0.        , 0.        , 0.        , 0.        , 0.        ,\n",
       "        0.        , 0.        , 0.        , 0.27882083, 0.        ,\n",
       "        0.33269077, 0.        , 0.        , 0.        , 0.        ,\n",
       "        0.        , 0.        , 0.        , 0.        , 0.        ,\n",
       "        0.        , 0.        , 0.        , 0.33269077, 0.33269077,\n",
       "        0.18672956, 0.        , 0.        , 0.        , 0.33269077,\n",
       "        0.        , 0.        , 0.        , 0.        ],\n",
       "       [0.        , 0.        , 0.        , 0.        , 0.        ,\n",
       "        0.31904449, 0.        , 0.        , 0.        , 0.        ,\n",
       "        0.        , 0.        , 0.        , 0.        , 0.        ,\n",
       "        0.        , 0.        , 0.        , 0.        , 0.        ,\n",
       "        0.        , 0.        , 0.31904449, 0.        , 0.        ,\n",
       "        0.        , 0.        , 0.        , 0.20229989, 0.26738418,\n",
       "        0.26738418, 0.        , 0.        , 0.        , 0.        ,\n",
       "        0.        , 0.        , 0.        , 0.        , 0.26738418,\n",
       "        0.        , 0.        , 0.        , 0.31904449, 0.31904449,\n",
       "        0.        , 0.31904449, 0.        , 0.        , 0.        ,\n",
       "        0.31904449, 0.        , 0.        , 0.        , 0.        ,\n",
       "        0.1790703 , 0.        , 0.        , 0.31904449, 0.        ,\n",
       "        0.        , 0.        , 0.        , 0.        ],\n",
       "       [0.        , 0.        , 0.        , 0.        , 0.        ,\n",
       "        0.        , 0.4345364 , 0.        , 0.        , 0.51849157,\n",
       "        0.        , 0.        , 0.        , 0.        , 0.        ,\n",
       "        0.        , 0.        , 0.        , 0.        , 0.        ,\n",
       "        0.        , 0.29101409, 0.        , 0.        , 0.        ,\n",
       "        0.        , 0.4345364 , 0.        , 0.        , 0.        ,\n",
       "        0.        , 0.51849157, 0.        , 0.        , 0.        ,\n",
       "        0.        , 0.        , 0.        , 0.        , 0.        ,\n",
       "        0.        , 0.        , 0.        , 0.        , 0.        ,\n",
       "        0.        , 0.        , 0.        , 0.        , 0.        ,\n",
       "        0.        , 0.        , 0.        , 0.        , 0.        ,\n",
       "        0.        , 0.        , 0.        , 0.        , 0.        ,\n",
       "        0.        , 0.        , 0.        , 0.        ],\n",
       "       [0.        , 0.        , 0.        , 0.33407908, 0.33407908,\n",
       "        0.        , 0.        , 0.        , 0.        , 0.        ,\n",
       "        0.        , 0.        , 0.        , 0.        , 0.        ,\n",
       "        0.        , 0.        , 0.33407908, 0.        , 0.        ,\n",
       "        0.        , 0.18750877, 0.        , 0.        , 0.        ,\n",
       "        0.        , 0.        , 0.        , 0.21183303, 0.        ,\n",
       "        0.        , 0.        , 0.        , 0.        , 0.33407908,\n",
       "        0.        , 0.        , 0.        , 0.        , 0.        ,\n",
       "        0.        , 0.        , 0.        , 0.        , 0.        ,\n",
       "        0.27998434, 0.        , 0.        , 0.        , 0.        ,\n",
       "        0.        , 0.33407908, 0.24160351, 0.        , 0.        ,\n",
       "        0.18750877, 0.27998434, 0.        , 0.        , 0.        ,\n",
       "        0.        , 0.33407908, 0.        , 0.        ],\n",
       "       [0.45402103, 0.22701052, 0.19025253, 0.        , 0.        ,\n",
       "        0.        , 0.19025253, 0.22701052, 0.        , 0.        ,\n",
       "        0.        , 0.        , 0.        , 0.        , 0.        ,\n",
       "        0.        , 0.        , 0.        , 0.22701052, 0.        ,\n",
       "        0.22701052, 0.        , 0.        , 0.        , 0.        ,\n",
       "        0.22701052, 0.        , 0.22701052, 0.        , 0.        ,\n",
       "        0.        , 0.        , 0.        , 0.        , 0.        ,\n",
       "        0.22701052, 0.22701052, 0.45402103, 0.        , 0.        ,\n",
       "        0.        , 0.        , 0.        , 0.        , 0.        ,\n",
       "        0.        , 0.        , 0.        , 0.        , 0.        ,\n",
       "        0.        , 0.        , 0.        , 0.        , 0.        ,\n",
       "        0.        , 0.        , 0.        , 0.        , 0.        ,\n",
       "        0.22701052, 0.        , 0.22701052, 0.        ],\n",
       "       [0.        , 0.        , 0.16600743, 0.        , 0.        ,\n",
       "        0.        , 0.        , 0.        , 0.        , 0.        ,\n",
       "        0.        , 0.        , 0.19808112, 0.        , 0.        ,\n",
       "        0.        , 0.        , 0.        , 0.        , 0.        ,\n",
       "        0.        , 0.33353134, 0.        , 0.19808112, 0.        ,\n",
       "        0.        , 0.        , 0.        , 0.37679812, 0.        ,\n",
       "        0.        , 0.        , 0.        , 0.        , 0.        ,\n",
       "        0.        , 0.        , 0.        , 0.        , 0.16600743,\n",
       "        0.        , 0.        , 0.19808112, 0.        , 0.        ,\n",
       "        0.        , 0.        , 0.39616223, 0.19808112, 0.        ,\n",
       "        0.        , 0.        , 0.57300318, 0.        , 0.        ,\n",
       "        0.22235423, 0.        , 0.        , 0.        , 0.        ,\n",
       "        0.        , 0.        , 0.        , 0.        ],\n",
       "       [0.        , 0.        , 0.        , 0.        , 0.        ,\n",
       "        0.        , 0.        , 0.        , 0.33696962, 0.        ,\n",
       "        0.        , 0.        , 0.        , 0.        , 0.        ,\n",
       "        0.        , 0.        , 0.        , 0.        , 0.        ,\n",
       "        0.        , 0.        , 0.        , 0.        , 0.        ,\n",
       "        0.        , 0.        , 0.        , 0.21366586, 0.        ,\n",
       "        0.28240684, 0.        , 0.33696962, 0.28240684, 0.        ,\n",
       "        0.        , 0.        , 0.        , 0.        , 0.        ,\n",
       "        0.        , 0.        , 0.        , 0.        , 0.        ,\n",
       "        0.        , 0.        , 0.        , 0.        , 0.33696962,\n",
       "        0.        , 0.        , 0.        , 0.        , 0.        ,\n",
       "        0.        , 0.        , 0.        , 0.        , 0.        ,\n",
       "        0.        , 0.        , 0.        , 0.67393923]])"
      ]
     },
     "execution_count": 3,
     "metadata": {},
     "output_type": "execute_result"
    }
   ],
   "source": [
    "X.toarray()"
   ]
  },
  {
   "cell_type": "code",
   "execution_count": 4,
   "id": "904348bc",
   "metadata": {},
   "outputs": [],
   "source": [
    "cosine_similarities = cosine_similarity(X)"
   ]
  },
  {
   "cell_type": "code",
   "execution_count": 5,
   "id": "7bebf52b",
   "metadata": {},
   "outputs": [
    {
     "data": {
      "text/plain": [
       "array([[1.        , 0.1020215 , 0.02313153, 0.20522091, 0.25066834,\n",
       "        0.        , 0.16717858, 0.05447135],\n",
       "       [0.1020215 , 1.        , 0.10799   , 0.05434093, 0.07002686,\n",
       "        0.        , 0.10380027, 0.        ],\n",
       "       [0.02313153, 0.10799   , 1.        , 0.        , 0.07643105,\n",
       "        0.        , 0.16043102, 0.1187357 ],\n",
       "       [0.20522091, 0.05434093, 0.        , 1.        , 0.0545677 ,\n",
       "        0.08267165, 0.09706232, 0.        ],\n",
       "       [0.25066834, 0.07002686, 0.07643105, 0.0545677 , 1.        ,\n",
       "        0.        , 0.32249129, 0.04526149],\n",
       "       [0.        , 0.        , 0.        , 0.08267165, 0.        ,\n",
       "        1.        , 0.03158333, 0.        ],\n",
       "       [0.16717858, 0.10380027, 0.16043102, 0.09706232, 0.32249129,\n",
       "        0.03158333, 1.        , 0.0805089 ],\n",
       "       [0.05447135, 0.        , 0.1187357 , 0.        , 0.04526149,\n",
       "        0.        , 0.0805089 , 1.        ]])"
      ]
     },
     "execution_count": 5,
     "metadata": {},
     "output_type": "execute_result"
    }
   ],
   "source": [
    "cosine_similarities"
   ]
  },
  {
   "cell_type": "code",
   "execution_count": 14,
   "id": "f76ac080",
   "metadata": {},
   "outputs": [
    {
     "data": {
      "text/plain": [
       "<Axes: >"
      ]
     },
     "execution_count": 14,
     "metadata": {},
     "output_type": "execute_result"
    },
    {
     "data": {
      "image/png": "[encoded data removed]",
      "text/plain": [
       "<Figure size 640x480 with 1 Axes>"
      ]
     },
     "metadata": {},
     "output_type": "display_data"
    }
   ],
   "source": [
    "import pandas as pd\n",
    "simlarities_df = pd.DataFrame(cosine_similarities)\n",
    "simlarities_df.loc[0,:]\n",
    "\n",
    "simlarities_df.loc[0,:].plot(kind='bar')"
   ]
  },
  {
   "cell_type": "markdown",
   "id": "d6b60fd7",
   "metadata": {},
   "source": [
    "Add a simple simlarity search. Will use this to illustrate the inner workings of chroma db."
   ]
  }
 ],
 "metadata": {
  "kernelspec": {
   "display_name": ".venv",
   "language": "python",
   "name": "python3"
  },
  "language_info": {
   "codemirror_mode": {
    "name": "ipython",
    "version": 3
   },
   "file_extension": ".py",
   "mimetype": "text/x-python",
   "name": "python",
   "nbconvert_exporter": "python",
   "pygments_lexer": "ipython3",
   "version": "3.12.7"
  }
 },
 "nbformat": 4,
 "nbformat_minor": 5
}
