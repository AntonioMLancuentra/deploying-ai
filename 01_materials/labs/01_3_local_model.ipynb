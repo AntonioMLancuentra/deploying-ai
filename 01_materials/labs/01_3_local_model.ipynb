{
 "cells": [
  {
   "cell_type": "markdown",
   "id": "391397a5",
   "metadata": {},
   "source": [
    "# LM Studio\n",
    "\n",
    " LM Studio is a powerful platform designed for working with large language models (LLMs) on your local machine. It provides an intuitive interface for downloading, managing, and running a wide variety of open-source LLMs.\n",
    "\n",
    "A few characteristics of LM Studio are:\n",
    "\n",
    "+ With LM Studio, users can experiment with different models, customize their settings, and interact with them in real time.\n",
    "+ The platform supports both CPU and GPU acceleration, making it accessible for a range of hardware configurations.\n",
    "+ LM Studio is ideal for developers, researchers, and enthusiasts who want to explore the capabilities of LLMs without relying on cloud-based solutions.\n",
    "\n",
    "You can download and install LMStudio from [lmstudio.ai](https://lmstudio.ai/).\n",
    "\n"
   ]
  },
  {
   "cell_type": "markdown",
   "id": "2e751e18",
   "metadata": {},
   "source": [
    "## LM Studio API\n",
    "\n",
    "An important characteristic in LM Studio is its support for OpenAI's API:\n",
    "\n",
    "+ LM Studio accepts requests on several OpenAI endpoints and returns OpenAI-like response objects ([lmstudio.ai](https://platform.openai.com/docs/guides/prompt-engineering#message-roles-and-instruction-following)).\n",
    "+ This means that we can reuse our code by pointing the local API using the `base_url` parameter."
   ]
  },
  {
   "cell_type": "markdown",
   "id": "fbc96b0b",
   "metadata": {},
   "source": [
    "## Setup LM Studio\n",
    "\n",
    "+ Download and install LM Studio from [lmstudio.ai](https://lmstudio.ai/).\n",
    "+ Start the application.\n",
    "+ Select a model to load:\n",
    "\n",
    "    - From the developer tab, you can select a model from the top bar.\n",
    "    - Select a model, for example, `qwen/qwen3-4b-2507`.\n",
    "    - Start the server with the control on the top-left.\n",
    "\n",
    "![](./img/01_lmstudio.png)\n"
   ]
  },
  {
   "cell_type": "markdown",
   "id": "07f3a04b",
   "metadata": {},
   "source": [
    "With the setup above, we can simply point to the local server as indicated below. The API works similarly than with OpenAI, however, the underlynig model is running locally and it was not necessarily produced by OpenAI."
   ]
  },
  {
   "cell_type": "code",
   "execution_count": null,
   "id": "b93f5989",
   "metadata": {},
   "outputs": [],
   "source": [
    "# LM Studio\n",
    "\n",
    "# from openai import OpenAI\n",
    "# client = OpenAI(base_url=\"http://127.0.0.1:1234/v1\", api_key=\"not-needed\")\n",
    "\n",
    "# response = client.responses.create(\n",
    "#     model = 'local-model',\n",
    "#     input = 'Hello world!',\n",
    "# )\n",
    "# response.output_text"
   ]
  },
  {
   "cell_type": "markdown",
   "id": "2b50894e",
   "metadata": {},
   "source": [
    "Ollama"
   ]
  },
  {
   "cell_type": "code",
   "execution_count": 3,
   "id": "f4f83c69",
   "metadata": {},
   "outputs": [
    {
     "name": "stdout",
     "output_type": "stream",
     "text": [
      "To convert miles to kilometers, use the exact conversion factor:\n",
      "\n",
      "**1 mile = 1.60934 kilometers**\n",
      "\n",
      "### Steps to Convert:\n",
      "1. **Multiply the miles by 1.60934** to get the result in kilometers.\n",
      "2. Example:\n",
      "   - **3 miles** = 3 × 1.60934 = 4.82802 km  \n",
      "   - **10 miles** = 10 × 1.60934 = **16.0934 km**  \n",
      "3. This method works for both long and short distances and provides precise results.\n"
     ]
    }
   ],
   "source": [
    "from openai import OpenAI\n",
    "client = OpenAI(base_url=\"http://localhost:11434/v1\", api_key=\"not-needed\")\n",
    "                \n",
    "response = client.chat.completions.create(\n",
    "    model = 'qwen3:0.6b',  # or whatever model you have in Ollama\n",
    "    messages = [\n",
    "        {\"role\": \"user\", \"content\": \"How to convert miles to kilometers?\"}\n",
    "    ]\n",
    ")\n",
    "print(response.choices[0].message.content)"
   ]
  },
  {
   "cell_type": "markdown",
   "id": "352507ba",
   "metadata": {},
   "source": [
    "TESTS"
   ]
  },
  {
   "cell_type": "markdown",
   "id": "f6ce66b1",
   "metadata": {},
   "source": [
    "ollama run qwen3:0.6b --verbose \"Write a detailed, 1,500-word historical fiction story about a group of spies during the Renaissance, set in the bustling city of Florence. Include vivid descriptions of the city, at least three complex characters with differing motivations, and a suspenseful climax.\"  \n",
    "\n",
    "total duration:       23.4666005s  \n",
    "load duration:        1.9841768s  \n",
    "prompt eval count:    63 token(s)  \n",
    "prompt eval duration: 31.6935ms  \n",
    "prompt eval rate:     1987.79 tokens/s  \n",
    "eval count:           1821 token(s)  \n",
    "eval duration:        20.6653443s  \n",
    "eval rate:            88.12 tokens/s  \n",
    "\n",
    "\n",
    "$ ollama run qwen2.5:1.5b  --verbose \"Write a detailed, 1,500-word historical fiction story about a group of spies during the Renaissance, set in the bustling city of Florence. Include vivid descriptions of the city, at least three complex characters with differing motivations, and a suspenseful climax.\"  \n",
    "\n",
    "total duration:       1m1.0977688s  \n",
    "load duration:        2.2080081s  \n",
    "prompt eval count:    82 token(s)  \n",
    "prompt eval duration: 84.0219ms  \n",
    "prompt eval rate:     975.94 tokens/s  \n",
    "eval count:           1874 token(s)  \n",
    "eval duration:        55.8203812s  \n",
    "eval rate:            33.57 tokens/s  \n",
    "\n",
    "$ ollama run granite3.1-moe:1b  --verbose \"Write a detailed, 1,500-word historical fiction story about a group of spies during the Renaissance, set in the bustling city of Florence. Include vivid descriptions of the city, at least three complex characters with differing motivations, and a suspenseful climax.\"  \n",
    "\n",
    "total duration:       22.770916s  \n",
    "load duration:        2.9163423s  \n",
    "prompt eval count:    114 token(s)  \n",
    "prompt eval duration: 118.0335ms  \n",
    "prompt eval rate:     965.83 tokens/s  \n",
    "eval count:           1022 token(s)  \n",
    "eval duration:        19.327089s  \n",
    "eval rate:            52.88 tokens/s  \n",
    "\n",
    "$ ollama run qwen3:1.7b --verbose \"Write a detailed, 1,500-word historical fiction story about a group of spies during the Renaissance, set in the bustling city of Florence. Include vivid descriptions of the city, at least three complex characters with differing motivations, and a suspenseful climax.\"  \n",
    "\n",
    "total duration:       1m17.3724615s  \n",
    "load duration:        1.4708292s  \n",
    "prompt eval count:    63 token(s)  \n",
    "prompt eval duration: 138.8931ms  \n",
    "prompt eval rate:     453.59 tokens/s  \n",
    "eval count:           2330 token(s)  \n",
    "eval duration:        1m14.9969008s  \n",
    "eval rate:            31.07 tokens/s  \n",
    "\n",
    "\n"
   ]
  }
 ],
 "metadata": {
  "kernelspec": {
   "display_name": "deploying-ai-env",
   "language": "python",
   "name": "python3"
  },
  "language_info": {
   "codemirror_mode": {
    "name": "ipython",
    "version": 3
   },
   "file_extension": ".py",
   "mimetype": "text/x-python",
   "name": "python",
   "nbconvert_exporter": "python",
   "pygments_lexer": "ipython3",
   "version": "3.12.12"
  }
 },
 "nbformat": 4,
 "nbformat_minor": 5
}
