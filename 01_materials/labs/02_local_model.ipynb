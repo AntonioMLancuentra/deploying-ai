{
 "cells": [
  {
   "cell_type": "markdown",
   "id": "391397a5",
   "metadata": {},
   "source": [
    "# LM Studio\n",
    "\n",
    "+ LM Studio is a powerful platform designed for working with large language models (LLMs) on your local machine.\n",
    "+ It provides an intuitive interface for downloading, managing, and running a wide variety of open-source LLMs.\n",
    "+ With LM Studio, users can experiment with different models, customize their settings, and interact with them in real time.\n",
    "+ The platform supports both CPU and GPU acceleration, making it accessible for a range of hardware configurations.\n",
    "+ LM Studio is ideal for developers, researchers, and enthusiasts who want to explore the capabilities of LLMs without relying on cloud-based solutions.\n",
    "\n",
    "Source: [lmstudio.ai](https://lmstudio.ai/)\n",
    "\n"
   ]
  },
  {
   "cell_type": "code",
   "execution_count": 2,
   "id": "e9551244",
   "metadata": {},
   "outputs": [],
   "source": [
    "import sys\n",
    "sys.path.append('../../05_src/')"
   ]
  },
  {
   "cell_type": "code",
   "execution_count": 5,
   "id": "ee156153",
   "metadata": {},
   "outputs": [],
   "source": [
    "from openai import OpenAI"
   ]
  },
  {
   "cell_type": "code",
   "execution_count": 17,
   "id": "b93f5989",
   "metadata": {},
   "outputs": [],
   "source": [
    "client = OpenAI(base_url=\"http://127.0.0.1:1234/v1\", api_key=\"not-needed\")\n",
    "\n",
    "response = client.responses.create(\n",
    "    model = 'local-model',\n",
    "    input = 'Hello world!',\n",
    ")"
   ]
  },
  {
   "cell_type": "code",
   "execution_count": 18,
   "id": "1d1a1fa2",
   "metadata": {},
   "outputs": [
    {
     "data": {
      "text/plain": [
       "\"Hello! 🌟 It's great to meet you! 😊 How can I assist you today? 😊\""
      ]
     },
     "execution_count": 18,
     "metadata": {},
     "output_type": "execute_result"
    }
   ],
   "source": [
    "response.output_text"
   ]
  }
 ],
 "metadata": {
  "kernelspec": {
   "display_name": ".venv",
   "language": "python",
   "name": "python3"
  },
  "language_info": {
   "codemirror_mode": {
    "name": "ipython",
    "version": 3
   },
   "file_extension": ".py",
   "mimetype": "text/x-python",
   "name": "python",
   "nbconvert_exporter": "python",
   "pygments_lexer": "ipython3",
   "version": "3.12.7"
  }
 },
 "nbformat": 4,
 "nbformat_minor": 5
}
