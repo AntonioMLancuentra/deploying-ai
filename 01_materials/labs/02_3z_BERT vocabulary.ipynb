{
 "cells": [
  {
   "cell_type": "markdown",
   "id": "547f0b17",
   "metadata": {},
   "source": [
    "**Script to retrieve all words in BERT vocabulary sized 30522**"
   ]
  },
  {
   "cell_type": "code",
   "execution_count": 8,
   "id": "e1902739",
   "metadata": {},
   "outputs": [],
   "source": [
    "from transformers import BertTokenizer\n",
    "import pandas as pd\n",
    "\n",
    "tokenizer = BertTokenizer.from_pretrained('bert-base-uncased')\n",
    "\n",
    "token_string = []\n",
    "for token_id in range(tokenizer.vocab_size):\n",
    "     token_string.append(tokenizer.convert_ids_to_tokens(token_id))\n",
    "\n",
    "# Write the list into a csv file\n",
    "df = pd.DataFrame(token_string, columns=['all_words_in_BERT_vocabulary'])\n",
    "df.to_csv('BERT_vocabulary.csv', index=False)\n"
   ]
  }
 ],
 "metadata": {
  "kernelspec": {
   "display_name": "deploying-ai-env",
   "language": "python",
   "name": "python3"
  },
  "language_info": {
   "codemirror_mode": {
    "name": "ipython",
    "version": 3
   },
   "file_extension": ".py",
   "mimetype": "text/x-python",
   "name": "python",
   "nbconvert_exporter": "python",
   "pygments_lexer": "ipython3",
   "version": "3.12.12"
  }
 },
 "nbformat": 4,
 "nbformat_minor": 5
}
