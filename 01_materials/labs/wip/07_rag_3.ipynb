{
 "cells": [
  {
   "cell_type": "code",
   "execution_count": 2,
   "id": "2432a0ff",
   "metadata": {},
   "outputs": [],
   "source": [
    "%load_ext dotenv\n",
    "%dotenv ../../05_src/.secrets"
   ]
  },
  {
   "cell_type": "code",
   "execution_count": 3,
   "id": "02f9b116",
   "metadata": {},
   "outputs": [],
   "source": [
    "from openai import OpenAI\n",
    "client = OpenAI()\n",
    "\n",
    "my_files = client.files.list().to_dict()\n",
    "file_ids = [file['id'] for file in my_files['data']]"
   ]
  },
  {
   "cell_type": "code",
   "execution_count": 4,
   "id": "a07fa4f4",
   "metadata": {},
   "outputs": [
    {
     "data": {
      "text/plain": [
       "['file-WhSUccy96odJzMfoRuM2i7',\n",
       " 'file-FTq9RsT65xWZyrVQExttJ2',\n",
       " 'file-NFcTFR5oAt2GCU7mr1vgZr',\n",
       " 'file-2xdCe69XzkfQG4kcpbAusw',\n",
       " 'file-6iM8nbyPQFybjTfNoqXVj3']"
      ]
     },
     "execution_count": 4,
     "metadata": {},
     "output_type": "execute_result"
    }
   ],
   "source": [
    "file_ids"
   ]
  },
  {
   "cell_type": "code",
   "execution_count": 5,
   "id": "cb9fdcdc",
   "metadata": {},
   "outputs": [],
   "source": [
    "my_batches = client.batches.list().to_dict()\n",
    "batches_ids = [batch['id'] for batch in my_batches['data']]"
   ]
  },
  {
   "cell_type": "code",
   "execution_count": 54,
   "id": "a6c10c73",
   "metadata": {},
   "outputs": [
    {
     "name": "stdout",
     "output_type": "stream",
     "text": [
      "batch id: batch_68ebe583d27881909082287134d86452\n",
      "batch status: cancelled\n",
      "batch request counts: {'completed': 1975, 'failed': 0, 'total': 45000}\n",
      "output file id: file-MDy6WM54AEUk7g1BfYre5b\n",
      "\n",
      "\n",
      "\n",
      "batch id: batch_68ebe583785481909758a99860705416\n",
      "batch status: cancelled\n",
      "batch request counts: {'completed': 1470, 'failed': 0, 'total': 45000}\n",
      "output file id: file-32snmztj4kzxpF5H3AHLNY\n",
      "\n",
      "\n",
      "\n",
      "batch id: batch_68ebe583361c8190ab3cc47a64e8fa55\n",
      "batch status: cancelled\n",
      "batch request counts: {'completed': 1758, 'failed': 0, 'total': 7650}\n",
      "output file id: file-1qKRkP24Sf6npdUGMsYgJ8\n",
      "\n",
      "\n",
      "\n",
      "batch id: batch_68ebe582e6608190bd4651192f19b2f3\n",
      "batch status: failed\n",
      "batch request counts: {'completed': 0, 'failed': 0, 'total': 0}\n",
      "output file id: None\n",
      "\n",
      "\n",
      "\n",
      "batch id: batch_68ebe582357881909a36743625d940b1\n",
      "batch status: cancelled\n",
      "batch request counts: {'completed': 2790, 'failed': 0, 'total': 45000}\n",
      "output file id: file-8kP4r4Prrrog5DGEHMpN8u\n",
      "\n",
      "\n",
      "\n",
      "batch id: batch_68ebd75012608190b4e78aa106866c05\n",
      "batch status: completed\n",
      "batch request counts: {'completed': 45000, 'failed': 0, 'total': 45000}\n",
      "output file id: file-CjhpzbNJK13yyuKQ6HxKHH\n",
      "\n",
      "\n",
      "\n",
      "batch id: batch_68ebd74f79b881909759bbe191440265\n",
      "batch status: in_progress\n",
      "batch request counts: {'completed': 44862, 'failed': 0, 'total': 45000}\n",
      "output file id: None\n",
      "\n",
      "\n",
      "\n",
      "batch id: batch_68ebd74ed070819092164452b5cc2be7\n",
      "batch status: completed\n",
      "batch request counts: {'completed': 7650, 'failed': 0, 'total': 7650}\n",
      "output file id: file-FTq9RsT65xWZyrVQExttJ2\n",
      "\n",
      "\n",
      "\n"
     ]
    }
   ],
   "source": [
    "for batch_id in batches_ids:\n",
    "    batch = client.batches.retrieve(batch_id)\n",
    "    print(f'batch id: {batch.to_dict()['id']}')\n",
    "    print(f'batch status: {batch.to_dict()['status']}')    \n",
    "    print(f'batch request counts: {batch.to_dict()['request_counts']}')\n",
    "    print(f'output file id: {batch.to_dict()['output_file_id']}')\n",
    "    print(\"\\n\\n\")"
   ]
  },
  {
   "cell_type": "code",
   "execution_count": null,
   "id": "4a892e64",
   "metadata": {},
   "outputs": [
    {
     "data": {
      "text/plain": [
       "Batch(id='batch_68ebe582357881909a36743625d940b1', completion_window='24h', created_at=1760290178, endpoint='/v1/embeddings', input_file_id='file-WhSUccy96odJzMfoRuM2i7', object='batch', status='cancelling', cancelled_at=None, cancelling_at=1760290450, completed_at=None, error_file_id=None, errors=None, expired_at=None, expires_at=1760376578, failed_at=None, finalizing_at=None, in_progress_at=1760290253, metadata={'description': 'Pitchfork reviews content embeddings'}, model='text-embedding-3-small', output_file_id=None, request_counts=BatchRequestCounts(completed=2287, failed=0, total=45000), usage=BatchUsage(input_tokens=0, input_tokens_details=InputTokensDetails(cached_tokens=0), output_tokens=0, output_tokens_details=OutputTokensDetails(reasoning_tokens=0), total_tokens=0))"
      ]
     },
     "execution_count": 13,
     "metadata": {},
     "output_type": "execute_result"
    }
   ],
   "source": [
    "\n",
    "# client.batches.cancel(\"batch_68ebe582357881909a36743625d940b1\")"
   ]
  },
  {
   "cell_type": "code",
   "execution_count": 17,
   "id": "fdba51a0",
   "metadata": {},
   "outputs": [],
   "source": [
    "batch = client.batches.retrieve(\"batch_68ebd74ed070819092164452b5cc2be7\")"
   ]
  },
  {
   "cell_type": "code",
   "execution_count": 57,
   "id": "94bc75ca",
   "metadata": {},
   "outputs": [
    {
     "data": {
      "text/plain": [
       "'pitchfork_reviews_batch_3.jsonl'"
      ]
     },
     "execution_count": 57,
     "metadata": {},
     "output_type": "execute_result"
    }
   ],
   "source": [
    "client.files.retrieve(batch.input_file_id).filename"
   ]
  },
  {
   "cell_type": "code",
   "execution_count": 59,
   "id": "6aa378b9",
   "metadata": {},
   "outputs": [],
   "source": [
    "def load_jsonl(filepath):\n",
    "    import json\n",
    "    with open(filepath, 'r') as f:\n",
    "        return [json.loads(line) for line in f]"
   ]
  },
  {
   "cell_type": "code",
   "execution_count": 63,
   "id": "601dfba5",
   "metadata": {},
   "outputs": [],
   "source": [
    "import os\n",
    "docs = load_jsonl(os.path.join('../../05_src/documents', client.files.retrieve(batch.input_file_id).filename))"
   ]
  },
  {
   "cell_type": "code",
   "execution_count": null,
   "id": "ffdab96b",
   "metadata": {},
   "outputs": [],
   "source": []
  },
  {
   "cell_type": "code",
   "execution_count": 20,
   "id": "3bec48b8",
   "metadata": {},
   "outputs": [],
   "source": [
    "file_response = client.files.content(batch.output_file_id)\n",
    "file_content = file_response.text"
   ]
  },
  {
   "cell_type": "code",
   "execution_count": 67,
   "id": "eb94242a",
   "metadata": {},
   "outputs": [
    {
     "name": "stdout",
     "output_type": "stream",
     "text": [
      "Collection 'reviews' deleted successfully.\n"
     ]
    }
   ],
   "source": [
    "import chromadb\n",
    "\n",
    "chroma_client = chromadb.Client() \n",
    "\n",
    "collection_name = \"reviews\"\n",
    "\n",
    "try:\n",
    "    # Attempt to get the collection\n",
    "    collection = chroma_client.get_collection(name=collection_name)\n",
    "    # If successful, the collection exists, so delete it\n",
    "    chroma_client.delete_collection(name=collection_name)\n",
    "    print(f\"Collection '{collection_name}' deleted successfully.\")\n",
    "except Exception as e:\n",
    "    # If get_collection raises a ValueError, the collection does not exist\n",
    "    print(f\"Collection '{collection_name}' does not exist. No action taken.\")\n",
    "\n",
    "chroma_client = chromadb.Client()\n",
    "collection = chroma_client.create_collection(name=\"reviews\")"
   ]
  },
  {
   "cell_type": "code",
   "execution_count": 64,
   "id": "d04827ef",
   "metadata": {},
   "outputs": [],
   "source": [
    "def get_document_by_custom_id(docs, review_id):\n",
    "    for doc in docs:\n",
    "        if doc['custom_id'] == review_id:\n",
    "            return doc\n",
    "    return None"
   ]
  },
  {
   "cell_type": "code",
   "execution_count": 68,
   "id": "b2884877",
   "metadata": {},
   "outputs": [
    {
     "name": "stderr",
     "output_type": "stream",
     "text": [
      "100%|██████████| 7651/7651 [01:27<00:00, 87.80it/s] \n"
     ]
    }
   ],
   "source": [
    "import json \n",
    "from tqdm import tqdm\n",
    "\n",
    "for lines in tqdm(file_content.split(\"\\n\")):\n",
    "    if lines.strip():\n",
    "        record = json.loads(lines)\n",
    "        embedding = record['response']['body']['data'][0]['embedding']\n",
    "        metadata = {\n",
    "            \"custom_id\": record['custom_id']\n",
    "        }\n",
    "        doc = get_document_by_custom_id(docs, record['custom_id'])\n",
    "        collection.add(\n",
    "            documents=[doc['body']['input']],\n",
    "            embeddings=[embedding],\n",
    "            metadatas=[metadata],\n",
    "            ids=[record['custom_id']]\n",
    "        )"
   ]
  },
  {
   "cell_type": "code",
   "execution_count": 71,
   "id": "e0a9dedb",
   "metadata": {},
   "outputs": [],
   "source": [
    "def get_embedding(text, model=\"text-embedding-3-small\"):\n",
    "    text = text.replace(\"\\n\", \" \")\n",
    "    return client.embeddings.create(input=[text], model=model).data[0].embedding"
   ]
  },
  {
   "cell_type": "code",
   "execution_count": 77,
   "id": "2e322e08",
   "metadata": {},
   "outputs": [],
   "source": [
    "def query_chromadb(query, top_n=2):\n",
    "    query_embedding = get_embedding(query)\n",
    "    results = collection.query(\n",
    "        query_embeddings = [query_embedding],\n",
    "        n_results = top_n\n",
    "    )\n",
    "    return [(id, score, text) for id, score, text in zip(results['ids'][0], results['distances'][0], results['documents'][0])]\n",
    "    return docs"
   ]
  },
  {
   "cell_type": "code",
   "execution_count": 79,
   "id": "2a6d5cdc",
   "metadata": {},
   "outputs": [
    {
     "data": {
      "text/plain": [
       "[('6405_17060_0',\n",
       "  1.1544218063354492,\n",
       "  'Iggy Pop and James Williamson recorded only one proper album together, the     classic and influential Raw Power. It\\'s understandable, then, that every     other year or so, a label like Bomp! graces the rock-loving public with yet     another collection of recently unearthed, never-before-heard rough cuts and     demos of Stooges projects that never were. Often, the value of such collections     lies not in the quality of the music itself, but rather in the incidental trivia     that can be gleaned from such recordings.  For example, did you know that the     Stooges actually practiced? Or that Iggy Pop had a recording studio inside     his ass? No?  Well, it\\'s all true-- and Wild Love is here to prove     it.As suggested above, this most recent release suffers from two major problems:     poor content and pathetic sound quality. First, the problem of content: on the     CD cover, Bomp! dubs Wild Love a \"stunning collection of never-heard     songs, jams, and works-in-progress from'),\n",
       " ('7371_17108_0',\n",
       "  1.1610231399536133,\n",
       "  'This little jewel of a CD is exactly the kind of release that\\'s in danger of     slipping through the cracks.  Aren\\'t you grateful to have us catchers in the rye     here at Pitchfork rescuing innocent little artistic statements like these from     the chasm of obscurity?     Limited to 500 copies and lovingly packaged, A Wild Man Brandishing an Uprooted     Tree is the minimally heralded and seemingly intentionally obscure solo outing     from Geoff Soule, the drummer of Fuck (who should in no way be confused with the     God of Fuck).  And while, in the pantheon of solo albums from drummers, this one     doesn\\'t deliver the goods like, say, almost anything by Robert Wyatt, it beats     Peter Criss hands down-- even in the arena of cheese-factor, as Wild Man     comes packaged with a miniature book of haiku detailing, level by level, the     classic video game \"Mr. Do,\" accompanied by full-color illustrations.     This same kind of perplexing attention to detail (or rather, attention'),\n",
       " ('2251_18281_1611',\n",
       "  1.1780551671981812,\n",
       "  'portray     a surreal, nightmarish place seen through the eyes of a child, as if Glenn Branca composed     a soundtrack to \"Where the Wild Things Are.\"  Songs like \"Queen of the Lake,\" \"The Moose\\'s     Daughter\" and \"Crow\" describe an interior landscape populated by shadowy, half-beast mutants,     which are all given voice by Satomi. There are no songs about \"relationships\" or anything     else vaguely connected to the sane world\\'s agreement about what constitutes reality; this     is the stuff of dreams, and as such, they are effectively creepy and strange. But music     with subject matter this abstract cries out for instrumental interludes and textures, brief     soundtracks to help transport us from place to place. Holdypaws only provides us with     some decent tunes.'),\n",
       " ('5257_17774_0',\n",
       "  1.182772159576416,\n",
       "  \"My job requires a certain amount of attentiveness in addition to time spent     talking on the telephone.  Though I have a CD player in my computer, I haven't     been able to find any music that's good for my environment. Everything was     either too dynamic, and hence interfered with my concentration, or too quiet,     and got lost in the ambient noise of the office. So I just listen to records     I've memorized in my head-- things like The Wild, the Innocent, and the E     Street Shuffle, Straight Outta Compton, and Bad Timing.          This Mice Parade album solved that little problem. For good or ill,     Mokoondi walks the razor's edge between too engaging and not engaging     enough. The dynamic range is minimal. The sounds-- mostly acoustic guitar,     Chinese harp, vibraphone and drums, with the occasional violin, saxophone and     Moog accompaniment-- are universally pretty. And they're arranged in a way     that's variable, without changing so much so as to be distracting.\"),\n",
       " ('2259_18191_0',\n",
       "  1.1843446493148804,\n",
       "  'Today, while driving, I listened to I Want You to Live 100 Years and Mos Def\\'s Black     on Both Sides back to back.  The result:  I spent the entire afternoon chanting the mantra,     \"Warn Defever ain\\'t got no soul/ Warn Defever isn\\'t rock and roll...\"  And, frankly he doesn\\'t     and he isn\\'t, at least not this time out.  For 100 Years, His Name is Alive\\'s chief      executive oddball assembled 11 faux-folk originals and a Willie Nelson cover, gave his various     ethereal female vocalists the day off, put aside his normal bag of production tricks and just     recorded himself playing the guitar and actually singing for a change.          The result, not surprisingly, is one strange little album.  The songs are interspersed with      excerpts from a bizarre record featuring a man (coincidentally named Warren) capable of producing     uncanny imitations of saws, trains, chickens, and fire dogs.  These interludes add a sort of     texture to the experience of the album, turning it')]"
      ]
     },
     "execution_count": 79,
     "metadata": {},
     "output_type": "execute_result"
    }
   ],
   "source": [
    "query_chromadb(\"I am looking for a wild album\", top_n=5)"
   ]
  }
 ],
 "metadata": {
  "kernelspec": {
   "display_name": ".venv",
   "language": "python",
   "name": "python3"
  },
  "language_info": {
   "codemirror_mode": {
    "name": "ipython",
    "version": 3
   },
   "file_extension": ".py",
   "mimetype": "text/x-python",
   "name": "python",
   "nbconvert_exporter": "python",
   "pygments_lexer": "ipython3",
   "version": "3.12.7"
  }
 },
 "nbformat": 4,
 "nbformat_minor": 5
}
