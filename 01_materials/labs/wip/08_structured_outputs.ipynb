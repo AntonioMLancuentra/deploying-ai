{
 "cells": [
  {
   "cell_type": "code",
   "execution_count": null,
   "id": "399a9ac8",
   "metadata": {},
   "outputs": [],
   "source": [
    "%load_ext dotenv\n",
    "%dotenv ../../05_src/.secrets"
   ]
  },
  {
   "cell_type": "code",
   "execution_count": null,
   "id": "9e791647",
   "metadata": {},
   "outputs": [],
   "source": [
    "import os\n",
    "\n",
    "\n",
    "\n",
    "if not os.getenv(\"OPENAI_API_KEY\"):\n",
    "    raise ValueError(\"Please set the OPENAI_API_KEY environment variable\")"
   ]
  },
  {
   "cell_type": "code",
   "execution_count": null,
   "id": "291a38dc",
   "metadata": {},
   "outputs": [],
   "source": [
    "from langchain.chat_models import init_chat_model\n",
    "\n",
    "llm = init_chat_model(\"gpt-4o-mini\", model_provider=\"openai\")"
   ]
  },
  {
   "cell_type": "code",
   "execution_count": null,
   "id": "21c07dd7",
   "metadata": {},
   "outputs": [],
   "source": [
    "from typing import Optional\n",
    "from pydantic import BaseModel, Field\n",
    "\n",
    "class Joke(BaseModel):\n",
    "    setup: str=Field(description=\"The setup of the joke\")\n",
    "    punchline: str=Field(description=\"The punchline of the joke\")\n",
    "    rating: Optional[int] = Field(\n",
    "        default=None, description=\"How funny the joke is, from 1 to 10\"\n",
    "    )\n",
    "\n",
    "structured_llm = llm.with_structured_output(Joke)\n",
    "\n",
    "jk = structured_llm.invoke(\"Tell me a joke about cats\")"
   ]
  },
  {
   "cell_type": "code",
   "execution_count": null,
   "id": "0fc755cb",
   "metadata": {},
   "outputs": [],
   "source": [
    "jk"
   ]
  },
  {
   "cell_type": "code",
   "execution_count": null,
   "id": "17cffcb1",
   "metadata": {},
   "outputs": [],
   "source": [
    "from typing import Optional\n",
    "from typing_extensions import Annotated, TypedDict\n",
    "\n",
    "class JokeDict(TypedDict):\n",
    "    setup: Annotated[str, ..., \"The setup of the joke\"] # No default, with description\n",
    "    punchline: Annotated[str, ..., \"The punchline of the joke\"] # No default, with description\n",
    "    rating: Annotated[Optional[int], None, \"How funny the joke is, from 1 to 10\"] # Default of None, with description)"
   ]
  },
  {
   "cell_type": "code",
   "execution_count": null,
   "id": "0d3ee7a1",
   "metadata": {},
   "outputs": [],
   "source": [
    "structured_llm_dict = llm.with_structured_output(JokeDict)\n",
    "jk_dict = structured_llm_dict.invoke(\"Tell me a joke about dogs\")\n"
   ]
  },
  {
   "cell_type": "code",
   "execution_count": null,
   "id": "c237e78d",
   "metadata": {},
   "outputs": [],
   "source": [
    "jk_dict"
   ]
  }
 ],
 "metadata": {
  "kernelspec": {
   "display_name": ".venv",
   "language": "python",
   "name": "python3"
  },
  "language_info": {
   "codemirror_mode": {
    "name": "ipython",
    "version": 3
   },
   "file_extension": ".py",
   "mimetype": "text/x-python",
   "name": "python",
   "nbconvert_exporter": "python",
   "pygments_lexer": "ipython3",
   "version": "3.12.7"
  }
 },
 "nbformat": 4,
 "nbformat_minor": 5
}
