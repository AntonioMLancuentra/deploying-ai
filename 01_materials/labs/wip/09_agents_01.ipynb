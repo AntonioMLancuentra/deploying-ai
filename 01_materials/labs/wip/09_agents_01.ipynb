{
 "cells": [
  {
   "cell_type": "code",
   "execution_count": null,
   "id": "4dc3595c",
   "metadata": {},
   "outputs": [],
   "source": [
    "import requests\n",
    "import json\n",
    "\n",
    "def get_horoscope(sign, day=\"today\"):\n",
    "    \"\"\"\n",
    "    An API call to a horoscope service is made.\n",
    "    The API call is to https://horoscope-app-api.vercel.app/api/v1/get-horoscope/daily\n",
    "    and takes two parameters sign and day.\n",
    "    Accepted values for sign are: Aries, Taurus, Gemini, Cancer, Leo, Virgo, Libra, Scorpio, Sagittarius, Capricorn, Aquarius, Pisces\n",
    "    Accepted values for day are: Date in format (YYYY-MM-DD) OR \"TODAY\" OR \"TOMORROW\" OR \"YESTERDAY\".\n",
    "    \"\"\"\n",
    "    \n",
    "    url = \"https://horoscope-app-api.vercel.app/api/v1/get-horoscope/daily\"\n",
    "    params = {\n",
    "        \"sign\": sign.capitalize(),\n",
    "        \"day\": day.upper()\n",
    "    }\n",
    "    response = requests.get(url, params=params)\n",
    "\n",
    "    resp_dict = json.loads(response.text)\n",
    "    data = resp_dict.get(\"data\")\n",
    "    horoscope_data = data.get(\"horoscope_data\", \"No horoscope found.\")\n",
    "    date = data.get(\"date\", \"No date found.\")\n",
    "    horoscope = f\"Horoscope for {sign.capitalize()} on {date}: {horoscope_data}\"\n",
    "    return horoscope\n"
   ]
  },
  {
   "cell_type": "code",
   "execution_count": 13,
   "id": "37b80d25",
   "metadata": {},
   "outputs": [
    {
     "name": "stdout",
     "output_type": "stream",
     "text": [
      "Response: 200, {\"data\":{\"date\":\"Oct 7, 2025\",\"horoscope_data\":\"Your heart may be hurt by misfortunes that have befallen you. Thinking about times past is just pulling up buckets of tears from a well. Don't keep doing this to yourself. It's time to move forward. Your heart is eager to start something new and bring adventure into your life. Use your emotions as fuel for the future instead of restraints from the past.\"},\"status\":200,\"success\":true}\n",
      "\n"
     ]
    },
    {
     "data": {
      "text/plain": [
       "\"Horoscope for Leo on Oct 7, 2025: Your heart may be hurt by misfortunes that have befallen you. Thinking about times past is just pulling up buckets of tears from a well. Don't keep doing this to yourself. It's time to move forward. Your heart is eager to start something new and bring adventure into your life. Use your emotions as fuel for the future instead of restraints from the past.\""
      ]
     },
     "execution_count": 13,
     "metadata": {},
     "output_type": "execute_result"
    }
   ],
   "source": [
    "get_horoscope(\"Leo\", \"TODAY\")"
   ]
  }
 ],
 "metadata": {
  "kernelspec": {
   "display_name": ".venv",
   "language": "python",
   "name": "python3"
  },
  "language_info": {
   "codemirror_mode": {
    "name": "ipython",
    "version": 3
   },
   "file_extension": ".py",
   "mimetype": "text/x-python",
   "name": "python",
   "nbconvert_exporter": "python",
   "pygments_lexer": "ipython3",
   "version": "3.12.7"
  }
 },
 "nbformat": 4,
 "nbformat_minor": 5
}
