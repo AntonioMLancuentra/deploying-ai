{
 "cells": [
  {
   "cell_type": "markdown",
   "id": "3bf4fe37",
   "metadata": {},
   "source": [
    "# Evaluating Model Outputs\n",
    "\n",
    "We can use logprobs to evaluate model outputs and reduce the risk of providing our users with hallucinated or inconsistent responses.\n",
    "\n",
    "Assume a simple RAG with a single document."
   ]
  },
  {
   "cell_type": "code",
   "execution_count": 1,
   "id": "af237d8e",
   "metadata": {},
   "outputs": [],
   "source": [
    "%load_ext dotenv\n",
    "%dotenv ../../05_src/.secrets"
   ]
  },
  {
   "cell_type": "code",
   "execution_count": null,
   "id": "5667d414",
   "metadata": {},
   "outputs": [],
   "source": [
    "# Article retrieved\n",
    "ada_lovelace_article = \"\"\"Augusta Ada King, Countess of Lovelace (née Byron; 10 December 1815 - 27 November 1852) was an English mathematician and writer, chiefly known for her work on Charles Babbage's proposed mechanical general-purpose computer, the Analytical Engine. She was the first to recognise that the machine had applications beyond pure calculation.\n",
    "Ada Byron was the only legitimate child of poet Lord Byron and reformer Lady Byron. All Lovelace's half-siblings, Lord Byron's other children, were born out of wedlock to other women. Byron separated from his wife a month after Ada was born and left England forever. He died in Greece when Ada was eight. Her mother was anxious about her upbringing and promoted Ada's interest in mathematics and logic in an effort to prevent her from developing her father's perceived insanity. Despite this, Ada remained interested in him, naming her two sons Byron and Gordon. Upon her death, she was buried next to him at her request. Although often ill in her childhood, Ada pursued her studies assiduously. She married William King in 1835. King was made Earl of Lovelace in 1838, Ada thereby becoming Countess of Lovelace.\n",
    "Her educational and social exploits brought her into contact with scientists such as Andrew Crosse, Charles Babbage, Sir David Brewster, Charles Wheatstone, Michael Faraday, and the author Charles Dickens, contacts which she used to further her education. Ada described her approach as \"poetical science\" and herself as an \"Analyst (& Metaphysician)\".\n",
    "When she was eighteen, her mathematical talents led her to a long working relationship and friendship with fellow British mathematician Charles Babbage, who is known as \"the father of computers\". She was in particular interested in Babbage's work on the Analytical Engine. Lovelace first met him in June 1833, through their mutual friend, and her private tutor, Mary Somerville.\n",
    "Between 1842 and 1843, Ada translated an article by the military engineer Luigi Menabrea (later Prime Minister of Italy) about the Analytical Engine, supplementing it with an elaborate set of seven notes, simply called \"Notes\".\n",
    "Lovelace's notes are important in the early history of computers, especially since the seventh one contained what many consider to be the first computer program—that is, an algorithm designed to be carried out by a machine. Other historians reject this perspective and point out that Babbage's personal notes from the years 1836/1837 contain the first programs for the engine. She also developed a vision of the capability of computers to go beyond mere calculating or number-crunching, while many others, including Babbage himself, focused only on those capabilities. Her mindset of \"poetical science\" led her to ask questions about the Analytical Engine (as shown in her notes) examining how individuals and society relate to technology as a collaborative tool.\n",
    "\"\"\"\n",
    "\n",
    "# Questions that can be easily answered given the article\n",
    "easy_questions = [\n",
    "    \"What nationality was Ada Lovelace?\",\n",
    "    \"What was an important finding from Lovelace's seventh note?\",\n",
    "]\n",
    "\n",
    "# Questions that are not fully covered in the article\n",
    "medium_questions = [\n",
    "    \"Did Lovelace collaborate with Charles Dickens\",\n",
    "    \"What concepts did Lovelace build with Charles Babbage\",\n",
    "]"
   ]
  },
  {
   "cell_type": "code",
   "execution_count": 13,
   "id": "dd16a78a",
   "metadata": {},
   "outputs": [],
   "source": [
    "from openai import OpenAI\n",
    "import numpy as np\n",
    "client = OpenAI()"
   ]
  },
  {
   "cell_type": "markdown",
   "id": "2f3e278c",
   "metadata": {},
   "source": [
    "We use our simple interface."
   ]
  },
  {
   "cell_type": "code",
   "execution_count": 14,
   "id": "e287d651",
   "metadata": {},
   "outputs": [],
   "source": [
    "def get_completion(\n",
    "    input: list[dict[str, str]],\n",
    "    model: str = \"gpt-4o-mini\",\n",
    "    max_tokens=500,\n",
    "    temperature=0,\n",
    "    tools=None,\n",
    "    logprobs=None,  # whether to return log probabilities of the output tokens or not. If true, returns the log probabilities of each output token returned in the content of message..\n",
    "    top_logprobs=None,\n",
    ") -> str:\n",
    "    params = {\n",
    "        \"model\": model,\n",
    "        \"input\": input,\n",
    "        \"max_output_tokens\": max_tokens,\n",
    "        \"temperature\": temperature,\n",
    "        \"tools\": tools,\n",
    "        \"include\": [\"message.output_text.logprobs\"] if logprobs else [],\n",
    "        \"top_logprobs\": top_logprobs,\n",
    "    }\n",
    "    if tools:\n",
    "        params[\"tools\"] = tools\n",
    "\n",
    "    completion = client.responses.create(**params)\n",
    "    return completion"
   ]
  },
  {
   "cell_type": "markdown",
   "id": "422794cb",
   "metadata": {},
   "source": [
    "The prompt below indicates that the model should determine if it has sufficient information to answer a question. We can assess the response to this query using logprobs."
   ]
  },
  {
   "cell_type": "code",
   "execution_count": 3,
   "id": "bb59d36f",
   "metadata": {},
   "outputs": [],
   "source": [
    "PROMPT = \"\"\"You retrieved this article: {article}. The question is: {question}.\n",
    "Before even answering the question, consider whether you have sufficient information in the article to answer the question fully.\n",
    "Your output should JUST be the boolean true or false, of if you have sufficient information in the article to answer the question.\n",
    "Respond with just one word, the boolean true or false. You must output the word 'True', or the word 'False', nothing else.\n",
    "\"\"\""
   ]
  },
  {
   "cell_type": "code",
   "execution_count": 30,
   "id": "e1b759c6",
   "metadata": {},
   "outputs": [],
   "source": [
    "\n",
    "def has_sufficient_context_for_answer(article, question):\n",
    "    output = \"\"\n",
    "    API_RESPONSE = get_completion(\n",
    "        [\n",
    "            {\n",
    "                \"role\": \"user\",\n",
    "                \"content\": PROMPT.format(\n",
    "                    article=article, question=question\n",
    "                ),\n",
    "            }\n",
    "        ],\n",
    "        model=\"gpt-4o-mini\",\n",
    "        logprobs=True,\n",
    "    )\n",
    "    output += f'Question: {question}\\n'\n",
    "    logprob = API_RESPONSE.output[0].content[0].logprobs[0]\n",
    "    output += f'has_sufficient_context_for_answer: {logprob.token}, logprobs: {logprob.logprob}, linear probability: {np.round(np.exp(logprob.logprob)*100,2)}%\\n'\n",
    "    return(output)"
   ]
  },
  {
   "cell_type": "markdown",
   "id": "936f3c67",
   "metadata": {},
   "source": [
    "### Easy Questions"
   ]
  },
  {
   "cell_type": "code",
   "execution_count": 31,
   "id": "367c557d",
   "metadata": {},
   "outputs": [
    {
     "name": "stdout",
     "output_type": "stream",
     "text": [
      "Question: What nationality was Ada Lovelace?\n",
      "has_sufficient_context_for_answer: True, logprobs: -0.0, linear probability: 100.0%\n",
      "\n",
      "Question: What was an important finding from Lovelace's seventh note?\n",
      "has_sufficient_context_for_answer: True, logprobs: -2e-06, linear probability: 100.0%\n",
      "\n"
     ]
    }
   ],
   "source": [
    "\n",
    "for qn in easy_questions:\n",
    "    output = has_sufficient_context_for_answer(ada_lovelace_article, qn)\n",
    "    print(output)"
   ]
  },
  {
   "cell_type": "markdown",
   "id": "6688283f",
   "metadata": {},
   "source": [
    "### Medium Questions"
   ]
  },
  {
   "cell_type": "code",
   "execution_count": 32,
   "id": "8c3d6e83",
   "metadata": {},
   "outputs": [
    {
     "name": "stdout",
     "output_type": "stream",
     "text": [
      "Question: Did Lovelace collaborate with Charles Dickens\n",
      "has_sufficient_context_for_answer: False, logprobs: -1e-06, linear probability: 100.0%\n",
      "\n",
      "Question: What concepts did Lovelace build with Charles Babbage\n",
      "has_sufficient_context_for_answer: True, logprobs: -0.000262, linear probability: 99.97%\n",
      "\n"
     ]
    }
   ],
   "source": [
    "for qn in medium_questions:\n",
    "    output = has_sufficient_context_for_answer(ada_lovelace_article, qn)\n",
    "    print(output)"
   ]
  }
 ],
 "metadata": {
  "kernelspec": {
   "display_name": ".venv",
   "language": "python",
   "name": "python3"
  },
  "language_info": {
   "codemirror_mode": {
    "name": "ipython",
    "version": 3
   },
   "file_extension": ".py",
   "mimetype": "text/x-python",
   "name": "python",
   "nbconvert_exporter": "python",
   "pygments_lexer": "ipython3",
   "version": "3.12.7"
  }
 },
 "nbformat": 4,
 "nbformat_minor": 5
}
