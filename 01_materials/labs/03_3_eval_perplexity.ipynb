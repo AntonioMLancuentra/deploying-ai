{
 "cells": [
  {
   "cell_type": "markdown",
   "id": "4c8f92d8",
   "metadata": {},
   "source": [
    "# Evaluating Model Outputs\n",
    "\n",
    "We can evaluate a model's confidence in its results by using perplexity. Perplexity is a measure of uncertainty that can be calculated by exponentiating the negative of the average of the logprobs. \n",
    "\n",
    "+ Perplexity can be used to assess the result of an individual model run.\n",
    "+ It can also be used to compare the relative confidence of results between model runs. \n",
    "\n",
    "Low perplexity or high confidence does not guarantee accuracy, but it can be a helpful signal when paired with other evaluation metrics. "
   ]
  },
  {
   "cell_type": "code",
   "execution_count": null,
   "id": "79453415",
   "metadata": {},
   "outputs": [],
   "source": [
    "%load_ext dotenv\n",
    "%dotenv ../../05_src/.secrets"
   ]
  },
  {
   "cell_type": "code",
   "execution_count": null,
   "id": "b9b7c9c7",
   "metadata": {},
   "outputs": [],
   "source": [
    "from openai import OpenAI\n",
    "import numpy as np\n",
    "client = OpenAI()"
   ]
  },
  {
   "cell_type": "code",
   "execution_count": null,
   "id": "ac3342b4",
   "metadata": {},
   "outputs": [],
   "source": [
    "prompts = [\n",
    "    \"In a short sentence, has artifical intelligence grown in the last decade?\",\n",
    "    \"In a short sentence, is Schrödinger's cat alive?\",\n",
    "    \"In a single word, yes or no, is Schrodinger's cat alive?\",\n",
    "    \"In a short sentence, what is the capital of Nuevo Leon?\",\n",
    "    \"Can you make an omelette without breaking eggs?\",\n",
    "]"
   ]
  },
  {
   "cell_type": "code",
   "execution_count": null,
   "id": "c626d600",
   "metadata": {},
   "outputs": [],
   "source": [
    "def get_completion(\n",
    "    input: list[dict[str, str]],\n",
    "    model: str = \"gpt-4o-mini\",\n",
    "    max_tokens=500,\n",
    "    temperature=0,\n",
    "    tools=None,\n",
    "    logprobs=None,  # whether to return log probabilities of the output tokens or not. If true, returns the log probabilities of each output token returned in the content of message..\n",
    "    top_logprobs=None,\n",
    ") -> str:\n",
    "    params = {\n",
    "        \"model\": model,\n",
    "        \"input\": input,\n",
    "        \"max_output_tokens\": max_tokens,\n",
    "        \"temperature\": temperature,\n",
    "        \"tools\": tools,\n",
    "        \"include\": [\"message.output_text.logprobs\"] if logprobs else [],\n",
    "        \"top_logprobs\": top_logprobs,\n",
    "    }\n",
    "    if tools:\n",
    "        params[\"tools\"] = tools\n",
    "\n",
    "    completion = client.responses.create(**params)\n",
    "    return completion"
   ]
  },
  {
   "cell_type": "code",
   "execution_count": null,
   "id": "9bf068da",
   "metadata": {},
   "outputs": [],
   "source": [
    "for prompt in prompts:\n",
    "    API_RESPONSE = get_completion(\n",
    "        [{\"role\": \"user\", \"content\": prompt}],\n",
    "        model=\"gpt-4o-mini\",\n",
    "        logprobs=True,\n",
    "    )\n",
    "    logprobs = [token.logprob for token in API_RESPONSE.output[0].content[0].logprobs]\n",
    "    response_text = API_RESPONSE.output[0].content[0].text\n",
    "    response_text_tokens = [token.token for token in API_RESPONSE.output[0].content[0].logprobs]\n",
    "    max_starter_length = max(len(s) for s in [\"Prompt:\", \"Response:\", \"Tokens:\", \"Logprobs:\", \"Perplexity:\"])\n",
    "    max_token_length = max(len(s) for s in response_text_tokens)\n",
    "    \n",
    "\n",
    "    formatted_response_tokens = [s.rjust(max_token_length) for s in response_text_tokens]\n",
    "    formatted_lps = [f\"{lp:.2f}\".rjust(max_token_length) for lp in logprobs]\n",
    "\n",
    "    perplexity_score = np.exp(-np.mean(logprobs))\n",
    "    print(\"Prompt:\".ljust(max_starter_length), prompt)\n",
    "    print(\"Response:\".ljust(max_starter_length), response_text, \"\\n\")\n",
    "    print(\"Tokens:\".ljust(max_starter_length), \" \".join(formatted_response_tokens))\n",
    "    print(\"Logprobs:\".ljust(max_starter_length), \" \".join(formatted_lps))\n",
    "    print(\"Perplexity:\".ljust(max_starter_length), perplexity_score, \"\\n\")"
   ]
  },
  {
   "cell_type": "code",
   "execution_count": null,
   "id": "a6d7c2a0",
   "metadata": {},
   "outputs": [],
   "source": [
    "API_RESPONSE.output[0].content[0].text"
   ]
  }
 ],
 "metadata": {
  "kernelspec": {
   "display_name": ".venv",
   "language": "python",
   "name": "python3"
  },
  "language_info": {
   "codemirror_mode": {
    "name": "ipython",
    "version": 3
   },
   "file_extension": ".py",
   "mimetype": "text/x-python",
   "name": "python",
   "nbconvert_exporter": "python",
   "pygments_lexer": "ipython3",
   "version": "3.12.7"
  }
 },
 "nbformat": 4,
 "nbformat_minor": 5
}
