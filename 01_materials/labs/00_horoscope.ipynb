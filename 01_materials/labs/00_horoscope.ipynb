{
 "cells": [
  {
   "cell_type": "code",
   "execution_count": 1,
   "id": "d1d4c1b3",
   "metadata": {},
   "outputs": [],
   "source": [
    "import requests\n",
    "def get_horoscope_from_service(sign:str, day:str):\n",
    "    url = \"https://horoscope-app-api.vercel.app/api/v1/get-horoscope/daily\"\n",
    "    params = {\n",
    "        \"sign\": sign.capitalize(),\n",
    "        \"day\": day.upper()\n",
    "    }\n",
    "    response = requests.get(url, params=params)\n",
    "    return response"
   ]
  },
  {
   "cell_type": "code",
   "execution_count": 2,
   "id": "b363a2e0",
   "metadata": {},
   "outputs": [],
   "source": [
    "resp = get_horoscope_from_service(\"aries\", \"today\")"
   ]
  },
  {
   "cell_type": "code",
   "execution_count": 3,
   "id": "92540ef7",
   "metadata": {},
   "outputs": [
    {
     "data": {
      "text/plain": [
       "{'Age': '0', 'Cache-Control': 'public, max-age=0, must-revalidate', 'Content-Length': '460', 'Content-Type': 'application/json', 'Date': 'Thu, 30 Oct 2025 22:48:13 GMT', 'Server': 'Vercel', 'Strict-Transport-Security': 'max-age=63072000; includeSubDomains; preload', 'X-Vercel-Cache': 'MISS', 'X-Vercel-Id': 'cle1::iad1::s98xp-1761864493704-3696f0130f53'}"
      ]
     },
     "execution_count": 3,
     "metadata": {},
     "output_type": "execute_result"
    }
   ],
   "source": [
    "resp.headers"
   ]
  },
  {
   "cell_type": "code",
   "execution_count": 5,
   "id": "48634768",
   "metadata": {},
   "outputs": [
    {
     "data": {
      "text/plain": [
       "{'data': {'date': 'Oct 30, 2025',\n",
       "  'horoscope_data': \"Is a member of your household away? Your home could be a lonely place for a while. You miss your housemate, but you also enjoy the solitude and the quiet that enables you to catch up on your projects, which may include sleep! Dreams that come to you tonight could bring insights to solutions for business and finance. Write them down in the morning. You'll want to remember them.\"},\n",
       " 'status': 200,\n",
       " 'success': True}"
      ]
     },
     "execution_count": 5,
     "metadata": {},
     "output_type": "execute_result"
    }
   ],
   "source": [
    "import json\n",
    "resp_dict = json.loads(resp.text)\n",
    "resp_dict"
   ]
  }
 ],
 "metadata": {
  "kernelspec": {
   "display_name": "deploying-ai-env",
   "language": "python",
   "name": "python3"
  },
  "language_info": {
   "codemirror_mode": {
    "name": "ipython",
    "version": 3
   },
   "file_extension": ".py",
   "mimetype": "text/x-python",
   "name": "python",
   "nbconvert_exporter": "python",
   "pygments_lexer": "ipython3",
   "version": "3.12.12"
  }
 },
 "nbformat": 4,
 "nbformat_minor": 5
}
