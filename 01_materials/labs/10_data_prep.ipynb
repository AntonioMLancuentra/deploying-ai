{
 "cells": [
  {
   "cell_type": "code",
   "execution_count": 22,
   "id": "c55228de",
   "metadata": {},
   "outputs": [],
   "source": [
    "import sqlite3\n",
    "import json\n",
    "\n",
    "import sys\n",
    "sys.path.append(\"../../05_src/\")"
   ]
  },
  {
   "cell_type": "code",
   "execution_count": 23,
   "id": "efb7cfed",
   "metadata": {},
   "outputs": [],
   "source": [
    "def sanitize_string(s):\n",
    "    if isinstance(s, str):\n",
    "        s = s.encode('utf-8', errors='ignore').decode('utf-8', errors='ignore')\n",
    "        s = s.encode('latin1', errors='ignore').decode('utf-8', errors='ignore')\n",
    "        s = s.replace('\\u0720', ' ')\n",
    "        s = s.replace(\"\\n\", \" \")\n",
    "    return s\n",
    "\n",
    "\n",
    "def get_data_from_sqlite(db_path, table):\n",
    "    with sqlite3.connect(db_path) as conn:\n",
    "        cursor = conn.cursor()\n",
    "        cursor.execute(f\"SELECT * FROM {table}\")\n",
    "        rows = cursor.fetchall()\n",
    "        columns = [description[0] for description in cursor.description]\n",
    "        data = [dict(zip(columns, row)) for row in rows]\n",
    "        data = [ {k: sanitize_string(v) for k, v in record.items()} for record in data ]\n",
    "    return data"
   ]
  },
  {
   "cell_type": "code",
   "execution_count": 24,
   "id": "ec899cfc",
   "metadata": {},
   "outputs": [],
   "source": [
    "def create_jsonl_from_table(db_path, table):\n",
    "    data = get_data_from_sqlite(db_path, table)\n",
    "    with open(f'../../05_src/documents/pitchfork_{table}.jsonl', 'w') as f:\n",
    "        for record in data:    \n",
    "            json_line = json.dumps(record)\n",
    "            f.write(json_line + '\\n')"
   ]
  },
  {
   "cell_type": "code",
   "execution_count": 25,
   "id": "cde6f276",
   "metadata": {},
   "outputs": [],
   "source": [
    "sqlite_file = \"../../05_src/documents/database.sqlite\"\n"
   ]
  },
  {
   "cell_type": "code",
   "execution_count": 26,
   "id": "e1e8e2d1",
   "metadata": {},
   "outputs": [],
   "source": [
    "table_list = ['artists', 'content', 'genres', 'labels', 'reviews', 'years']\n",
    "\n",
    "for table in table_list:\n",
    "    create_jsonl_from_table(sqlite_file, table)"
   ]
  }
 ],
 "metadata": {
  "kernelspec": {
   "display_name": ".venv",
   "language": "python",
   "name": "python3"
  },
  "language_info": {
   "codemirror_mode": {
    "name": "ipython",
    "version": 3
   },
   "file_extension": ".py",
   "mimetype": "text/x-python",
   "name": "python",
   "nbconvert_exporter": "python",
   "pygments_lexer": "ipython3",
   "version": "3.12.7"
  }
 },
 "nbformat": 4,
 "nbformat_minor": 5
}
