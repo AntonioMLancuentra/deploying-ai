{
 "cells": [
  {
   "cell_type": "code",
   "execution_count": 1,
   "id": "fe36810b",
   "metadata": {},
   "outputs": [],
   "source": [
    "%load_ext dotenv\n",
    "%dotenv ../../05_src/.secrets"
   ]
  },
  {
   "cell_type": "code",
   "execution_count": 2,
   "id": "b1f83f18",
   "metadata": {},
   "outputs": [],
   "source": [
    "from langchain_community.document_loaders import JSONLoader\n",
    "from langchain.embeddings import OpenAIEmbeddings\n",
    "from langchain.text_splitter import RecursiveCharacterTextSplitter\n",
    "\n",
    "from openai import OpenAI\n",
    "\n",
    "import chromadb\n",
    "\n",
    "import json\n",
    "import os\n"
   ]
  },
  {
   "cell_type": "code",
   "execution_count": 3,
   "id": "486486d8",
   "metadata": {},
   "outputs": [],
   "source": [
    "OPENAI_API_KEY = os.getenv(\"OPENAI_API_KEY\")\n",
    "if not OPENAI_API_KEY:\n",
    "    raise ValueError(\"OPENAI_API_KEY not found in environment variables\")\n",
    "else:\n",
    "    client = OpenAI(api_key = OPENAI_API_KEY)\n",
    "\n",
    "def get_embedding(text, model=\"text-embedding-ada-002\"):\n",
    "    text = text.replace(\"\\n\", \" \")\n",
    "    if model == \"sentence_transformers\":\n",
    "        from sentence_transformers import SentenceTransformer\n",
    "        model = SentenceTransformer('all-MiniLM-L6-v2')\n",
    "        return model.encode(text).tolist()\n",
    "    \n",
    "    return client.embeddings.create(input=[text], model=model).data[0].embedding\n"
   ]
  },
  {
   "cell_type": "code",
   "execution_count": 4,
   "id": "8f9c8425",
   "metadata": {},
   "outputs": [
    {
     "name": "stdout",
     "output_type": "stream",
     "text": [
      "Collection 'reviews' does not exist. No action taken.\n"
     ]
    }
   ],
   "source": [
    "chroma_client = chromadb.Client() \n",
    "\n",
    "collection_name = \"reviews\"\n",
    "\n",
    "try:\n",
    "    # Attempt to get the collection\n",
    "    collection = chroma_client.get_collection(name=collection_name)\n",
    "    # If successful, the collection exists, so delete it\n",
    "    chroma_client.delete_collection(name=collection_name)\n",
    "    print(f\"Collection '{collection_name}' deleted successfully.\")\n",
    "except Exception as e:\n",
    "    # If get_collection raises a ValueError, the collection does not exist\n",
    "    print(f\"Collection '{collection_name}' does not exist. No action taken.\")\n",
    "\n",
    "chroma_client = chromadb.Client()\n",
    "collection = chroma_client.create_collection(name=\"reviews\")"
   ]
  },
  {
   "cell_type": "markdown",
   "id": "5aaf8891",
   "metadata": {},
   "source": [
    "## Data Loader\n",
    "\n",
    "+ Use JSONLoader."
   ]
  },
  {
   "cell_type": "code",
   "execution_count": 5,
   "id": "6126b6f2",
   "metadata": {},
   "outputs": [],
   "source": [
    "def get_metadata(record:dict, metadata: dict) -> dict:\n",
    "    metadata['reviewid'] = record.get('reviewid')\n",
    "    return metadata\n",
    "\n",
    "loader = JSONLoader(\"../../05_src/documents/pitchfork_content.jsonl\", \n",
    "                    jq_schema=\".\",\n",
    "                    content_key=\"content\",\n",
    "                    json_lines=True,\n",
    "                    text_content=True,\n",
    "                    metadata_func=get_metadata)"
   ]
  },
  {
   "cell_type": "code",
   "execution_count": 6,
   "id": "0d56f1ab",
   "metadata": {},
   "outputs": [],
   "source": [
    "data = loader.load()"
   ]
  },
  {
   "cell_type": "code",
   "execution_count": 7,
   "id": "86064ad3",
   "metadata": {},
   "outputs": [
    {
     "data": {
      "text/plain": [
       "{'lc': 1,\n",
       " 'type': 'constructor',\n",
       " 'id': ['langchain', 'schema', 'document', 'Document'],\n",
       " 'kwargs': {'metadata': {'source': 'C:\\\\Users\\\\JesusCalderon\\\\work\\\\dsi_deploying_ai\\\\05_src\\\\documents\\\\pitchfork_content.jsonl',\n",
       "   'seq_num': 1,\n",
       "   'reviewid': 22703},\n",
       "  'page_content': \"Trip-hop eventually became a 90s punchline, a music-press shorthand for overhyped hotel lounge music. But today, the much-maligned subgenre almost feels like a secret precedent. Listen to any of the canonical Bristol-scene albums of the mid-late 90s, when the genre was starting to chafe against its boundaries, and youd think the claustrophobic, anxious 21st century started a few years ahead of schedule. Looked at from the right angle, trip-hopis part of an unbroken chain that runs from the abrasion of 80s post-punk to the ruminative pop-R&B-dance fusion of the moment.The best of it has aged far more gracefully (and forcefully) than anything recorded in the waning days of the record industrys pre-filesharing monomania has any right to. Tricky rebelled against being attached at the hip to a scene he was already looking to shed and decamped for Jamaica to record a more aggressive, bristling-energy mutation of his style in 96; the namePre-Millennium Tension is the only obvious thing that tells you its two decades old rather than two weeks. And Portisheads 97 self-titled saw the stress-fractured voice of Beth Gibbons envisioning romance as codependent, mutually assured destruction while Geoff Barrow sunk into his RZA-noir beats like The Conversations Gene Hackman ruminating over his surveillance tapes. This was raw-nerved music, too single-minded and intense to carry an obvious timestamp.But Massive Attack were the origin point of the trip-hop movement they and their peers were striving to escape the orbit of, and they nearly tore themselves to shreds in the process. Instead or maybe as a resultthey laid down their going-nova genre's definitive paranoia statement with Mezzanine. The band's third album (not counting the Mad Professor-remixed No Protection) completes the last in a sort of de facto Bristol trilogy, where Trickys youthful iconoclasm and Portisheads deep-focus emotional intensity set the scene for Massive Attacks sense of near-suffocating dread. The album corroded their tendencies to make big-wheel hymnals of interconnected lives where hope and despair trade precedenton Mezzanine, its alienation all the way down. Theres no safety from harm here, nothing youve got to be thankful for, nobody to take the force of the blow: what Mezzanine provides instead is a succession of parties and relationships and panopticons where the walls wont stop closing in.The lyrics establish this atmosphere all on their own. Sex, in Inertia Creeps, is reduced to a meeting of two undernourished egos, four rotating hips, the focus of a failing relationship that's left its participants too numbed with their own routine dishonesty to break it off. The voice singing itMassive Attack's cornerstone co-writer/producer Robert 3D Del Najais raspy from exhaustion. Dissolved Girl reiterates thistheme fromthe perspective of guest vocalist Sarah Jay Hawley (Passions overrated anyway). On Risingson, Grant Daddy G Marshall nails the boredom and anxiety of being stuck somewhere youcant stand with someone yourestarting to feel the same way about (Why you want to take me to this party and breathe/Im dying to leave/Every time we grind you know we severed lines). But Mezzanines defining moments come from guest vocalists who were famous long before Massive Attack even released their first album. Horace Andywas already a legend in reggae circles, but his collaborations with Massive Attack gave him a wider crossover exposure, and all three of his appearances on Mezzanine are homages or nods to songs he'd charted with in his early-70s come-up. Angel is a loose rewrite of his 1973 single You Are My Angel, but its a fakeout after the first verseoriginally a vision of beauty (Come from way above/To bring me love), transformed into an Old Testament avenger: On the dark side/Neutralize every man in sight. The parenthetically titled, album-closing reprise of (Exchange) is a ghostly invocation of Andys See A Man's Face cleverly disguised as a comedown track. And then theres Man Next Door, the John Holt standard that Andy hadpreviously recorded as Quiet Placeon Mezzanine, it sounds less like an overheard argument from the next apartment over and more like a close-quarters reckoning with violence heard through thin walls ready to break. Its Andy at his emotionally nuanced and evocative best.The other outside vocalist was even more of a coup: Liz Fraser, the singer and songwriter of Cocteau Twins, lends her virtuoso soprano to three songs that feel like exorcisms ofthe personal strife accompanying her bandsbreakup. Hervoice serves as an ethereal counterpoint to speaker-rattling production around it. Black Milk contains the albums most spiritually unnerving words (Eat me/In the space/Within my heart/Love you for God/Love you for the Mother), even as her leadand the elegiac beat make for some of its most beautiful sounds. She providesthe wistful counterpoint to the night-shift alienation of Group Four. And then there's Teardrop, her finest moment on the album. Legend has it the song was briefly considered for Madonna; Andrew Mushroom Vowles sent the demo to her, but was overruled by Daddy G and 3D, who both wanted Fraser. Democracy thankfully worked this time around, as Frasers performancerecorded in part on the day she discovered that Jeff Buckley, who shed had an estranged working relationship and friendship with, had drowned in Memphis Wolf Riverwas a heart-rending performance that gave Massive Attack their first (and so far only) UK Top 10 hit.Originally set for a late 97 release, Mezzanine got pushed back four months because Del Naja refused to stop reworking the tracks, tearing them apart and rebuilding them until theyre so polished they gleam. It sure sounds like the product of bloody-knuckled labor, all that empty-space reverb and melted-together multitrack vocals and oppressive low-end. (The first sound you hear on the album, that lead-jointed bassline on Angel, is to subwoofers what Planet Earthis to high-def television.) But it also groans with the burden of creative conflict, a working process that created rifts between Del Naja and Vowles, who left shortly after Mezzanine dropped following nearly 15 years of collaboration.Mezzanine began the bands relationship with producer Neil Davidge, whod known Vowles dating back to the early 90s and met the rest of the band after the completion of Protection. He picked a chaotic time to jump in, but Davidge and 3D forged a creative bond working through that pressure.Mezzanine was a document of unity, not fragmentation. Despite their rifts, they were apost-genre outfit, one that couldnt separate dub from punk from hip-hop from R&B because the basslines all worked together and because classifications are for toe tags. All theiracknowledged samplesincluding the joy-buzzer synths from Ultravoxs Rockwrok (Inertia Creeps), the opulent ache of Isaac Hayes celestial-soul take on Our Day Will Come (Exchange), Robert Smiths nervous tick tick tick from the Cures 10:15 Saturday Night, and the most concrete-crumbling throwdown of the Led Zep Levee break ever deployed (the latter two on Man Next Door)were sourced from 1968 and 1978, well-traveled crate-digging territory. But what they build from that is its own beast.Theirworking method never got any faster. The four-year gap between Protectionand Mezzanine became a five-year gap until 2003s 100th Window, then another seven years between that record and 2010s Heligoland, plus another seven years and counting with no full-lengths to show for it. Not that they've been slacking: we've gotten a multimedia film/music collaboration with Adam Curtis, the respectable but underratedRitual Spirit EP, and Del Najas notoriously rumored side gig as Banksy. (Hey, 3D does have a background in graffiti art.) But the ordeal of both recording and touring Mezzanine took its own toll. A late 98 interview with Del Naja saw him optimistic about its reputation-shedding style: I always said it was for the greater good of the fucking project because if this album was a bit different from the last two, the next one would be even freer to be whatever it wants to be. But fatigue and restlessness rarely make for a productive mixture, and that same spark of tension which carried Mezzanine over the threshold proved unsustainable, not just for Massive Attacks creativity but their continued existence.Still, its hard not to feel the albums legacy resonating elsewhereand not just in Teardrop becoming the cue for millions of TV viewers to brace themselves for Hugh Lauries cranky-genius-doctor schtick.Graft its tense feelings of nervy isolation and late-night melancholy onto two-step, and youre partway to the blueprint for Plastician and Burial. You can hear flashes of that mournful romantic alienation in James Blake, the graceful, bass-riddled emotional abrasion in FKA twigs, the all-absorbing post-genre rock/soul ambitions in Young Fathers or Algiers. Mezzanine stands as an album built around echoes of the 70s, wrestled through the immediacy of its creators' tumultuous late 90s, and fearless enough that it still sounds like it belongs in whatever timeframe you're playing it.\",\n",
       "  'type': 'Document'}}"
      ]
     },
     "execution_count": 7,
     "metadata": {},
     "output_type": "execute_result"
    }
   ],
   "source": [
    "data[0].to_json()"
   ]
  },
  {
   "cell_type": "code",
   "execution_count": null,
   "id": "a90d90be",
   "metadata": {},
   "outputs": [],
   "source": [
    "data"
   ]
  },
  {
   "cell_type": "markdown",
   "id": "5a504886",
   "metadata": {},
   "source": [
    "## Create Chunks"
   ]
  },
  {
   "cell_type": "code",
   "execution_count": null,
   "id": "ef3ee835",
   "metadata": {},
   "outputs": [],
   "source": [
    "text_splitter = RecursiveCharacterTextSplitter(\n",
    "    chunk_size = 1000, \n",
    "    chunk_overlap=200, \n",
    "    length_function = len, \n",
    "    add_start_index = True\n",
    ")"
   ]
  },
  {
   "cell_type": "code",
   "execution_count": null,
   "id": "7776486f",
   "metadata": {},
   "outputs": [],
   "source": [
    "chunks = text_splitter.split_documents(data)"
   ]
  },
  {
   "cell_type": "code",
   "execution_count": null,
   "id": "ad4841fa",
   "metadata": {},
   "outputs": [],
   "source": [
    "print(f'Split {len(data)} reviews (documents) into {len(chunks)} chunks.' )"
   ]
  },
  {
   "cell_type": "code",
   "execution_count": null,
   "id": "9283fd3b",
   "metadata": {},
   "outputs": [],
   "source": [
    "chunks[0].to_json()"
   ]
  },
  {
   "cell_type": "code",
   "execution_count": null,
   "id": "9eba9b84",
   "metadata": {},
   "outputs": [],
   "source": [
    "chunks"
   ]
  },
  {
   "cell_type": "markdown",
   "id": "d7dfba0b",
   "metadata": {},
   "source": [
    "## Batch Embedding and Insertion\n",
    "\n",
    "[Documentation](https://platform.openai.com/docs/guides/batch)\n",
    "[API Reference](https://platform.openai.com/docs/api-reference/batch)"
   ]
  },
  {
   "cell_type": "code",
   "execution_count": null,
   "id": "6c8fb4b7",
   "metadata": {},
   "outputs": [],
   "source": [
    "chunks[0].page_content"
   ]
  },
  {
   "cell_type": "code",
   "execution_count": null,
   "id": "f60b663a",
   "metadata": {},
   "outputs": [],
   "source": [
    "chunks[0].metadata"
   ]
  },
  {
   "cell_type": "code",
   "execution_count": null,
   "id": "9b5ccc11",
   "metadata": {},
   "outputs": [],
   "source": [
    "def prep_batch_file_for_embedding(input:list, output_path:str, max_lines_per_file:int=10000):\n",
    "    total_lines = len(input)\n",
    "    num_files = (total_lines // max_lines_per_file) + 1\n",
    "    print(f'Total lines: {total_lines}, Number of files to create: {num_files}')\n",
    "\n",
    "    for num_file in range(num_files):\n",
    "        start_index = num_file * max_lines_per_file\n",
    "        end_index = min(start_index + max_lines_per_file, total_lines)\n",
    "        output_file = os.path.join(output_path, f\"pitchfork_reviews_batch_{num_file+1}.jsonl\")\n",
    "        print(f'Creating file: {output_file} with lines from {start_index} to {end_index-1}')\n",
    "        create_single_batch_file(input, start_index, end_index, output_file)\n",
    "\n",
    "def create_single_batch_file(input, start_index, end_index, output_file):\n",
    "    with open(output_file, 'w') as outfile:\n",
    "        for line in input[start_index:end_index]:\n",
    "            custom_id = (\n",
    "                    str(line.metadata['reviewid']) + \"_\" + \n",
    "                    str(line.metadata['seq_num']) + \"_\" + \n",
    "                    str(line.metadata['start_index'])\n",
    "                )\n",
    "            content = line.page_content\n",
    "            out_dict = {\n",
    "                    \"custom_id\": custom_id, \n",
    "                    \"method\": \"POST\", \n",
    "                    \"url\": \"/v1/embeddings\", \n",
    "                    \"body\": {\n",
    "                        \"model\": \"text-embedding-3-small\", \n",
    "                        \"input\": content\n",
    "                    }\n",
    "                }\n",
    "            outfile.write(json.dumps(out_dict) + '\\n')\n",
    "        \n",
    "            "
   ]
  },
  {
   "cell_type": "code",
   "execution_count": null,
   "id": "d5dde9a2",
   "metadata": {},
   "outputs": [],
   "source": [
    "prep_batch_file_for_embedding(\n",
    "    input=chunks, \n",
    "    output_path='../../05_src/documents/'\n",
    ")"
   ]
  },
  {
   "cell_type": "code",
   "execution_count": 9,
   "id": "94b24fc3",
   "metadata": {},
   "outputs": [
    {
     "data": {
      "text/plain": [
       "['../../05_src/documents\\\\pitchfork_reviews_batch_1.jsonl',\n",
       " '../../05_src/documents\\\\pitchfork_reviews_batch_2.jsonl',\n",
       " '../../05_src/documents\\\\pitchfork_reviews_batch_3.jsonl']"
      ]
     },
     "execution_count": 9,
     "metadata": {},
     "output_type": "execute_result"
    }
   ],
   "source": [
    "from glob import glob\n",
    "\n",
    "batch_files = glob('../../05_src/documents/pitchfork_reviews_batch_*.jsonl')\n",
    "batch_files"
   ]
  },
  {
   "cell_type": "code",
   "execution_count": 10,
   "id": "d4e3c749",
   "metadata": {},
   "outputs": [
    {
     "name": "stderr",
     "output_type": "stream",
     "text": [
      " 33%|███▎      | 1/3 [00:05<00:11,  5.78s/it]"
     ]
    },
    {
     "name": "stdout",
     "output_type": "stream",
     "text": [
      "FileObject(id='file-WhSUccy96odJzMfoRuM2i7', bytes=47726616, created_at=1760290155, filename='pitchfork_reviews_batch_1.jsonl', object='file', purpose='batch', status='processed', expires_at=1762882155, status_details=None)\n"
     ]
    },
    {
     "name": "stderr",
     "output_type": "stream",
     "text": [
      " 33%|███▎      | 1/3 [00:06<00:12,  6.28s/it]\n"
     ]
    },
    {
     "ename": "KeyboardInterrupt",
     "evalue": "",
     "output_type": "error",
     "traceback": [
      "\u001b[31m---------------------------------------------------------------------------\u001b[39m",
      "\u001b[31mKeyboardInterrupt\u001b[39m                         Traceback (most recent call last)",
      "\u001b[36mCell\u001b[39m\u001b[36m \u001b[39m\u001b[32mIn[10]\u001b[39m\u001b[32m, line 7\u001b[39m\n\u001b[32m      3\u001b[39m client = OpenAI()\n\u001b[32m      6\u001b[39m \u001b[38;5;28;01mfor\u001b[39;00m b_file \u001b[38;5;129;01min\u001b[39;00m tqdm(batch_files):\n\u001b[32m----> \u001b[39m\u001b[32m7\u001b[39m     batch_input_file = \u001b[43mclient\u001b[49m\u001b[43m.\u001b[49m\u001b[43mfiles\u001b[49m\u001b[43m.\u001b[49m\u001b[43mcreate\u001b[49m\u001b[43m(\u001b[49m\n\u001b[32m      8\u001b[39m \u001b[43m        \u001b[49m\u001b[43mfile\u001b[49m\u001b[43m=\u001b[49m\u001b[38;5;28;43mopen\u001b[39;49m\u001b[43m(\u001b[49m\u001b[43mb_file\u001b[49m\u001b[43m,\u001b[49m\u001b[43m \u001b[49m\u001b[33;43m\"\u001b[39;49m\u001b[33;43mrb\u001b[39;49m\u001b[33;43m\"\u001b[39;49m\u001b[43m)\u001b[49m\u001b[43m,\u001b[49m\u001b[43m \u001b[49m\n\u001b[32m      9\u001b[39m \u001b[43m        \u001b[49m\u001b[43mpurpose\u001b[49m\u001b[43m=\u001b[49m\u001b[33;43m'\u001b[39;49m\u001b[33;43mbatch\u001b[39;49m\u001b[33;43m'\u001b[39;49m\n\u001b[32m     10\u001b[39m \u001b[43m    \u001b[49m\u001b[43m)\u001b[49m\n\u001b[32m     11\u001b[39m     \u001b[38;5;28mprint\u001b[39m(batch_input_file)\n",
      "\u001b[36mFile \u001b[39m\u001b[32mc:\\Users\\JesusCalderon\\work\\dsi_deploying_ai\\.venv\\Lib\\site-packages\\openai\\resources\\files.py:123\u001b[39m, in \u001b[36mFiles.create\u001b[39m\u001b[34m(self, file, purpose, expires_after, extra_headers, extra_query, extra_body, timeout)\u001b[39m\n\u001b[32m    119\u001b[39m \u001b[38;5;66;03m# It should be noted that the actual Content-Type header that will be\u001b[39;00m\n\u001b[32m    120\u001b[39m \u001b[38;5;66;03m# sent to the server will contain a `boundary` parameter, e.g.\u001b[39;00m\n\u001b[32m    121\u001b[39m \u001b[38;5;66;03m# multipart/form-data; boundary=---abc--\u001b[39;00m\n\u001b[32m    122\u001b[39m extra_headers = {\u001b[33m\"\u001b[39m\u001b[33mContent-Type\u001b[39m\u001b[33m\"\u001b[39m: \u001b[33m\"\u001b[39m\u001b[33mmultipart/form-data\u001b[39m\u001b[33m\"\u001b[39m, **(extra_headers \u001b[38;5;129;01mor\u001b[39;00m {})}\n\u001b[32m--> \u001b[39m\u001b[32m123\u001b[39m \u001b[38;5;28;01mreturn\u001b[39;00m \u001b[38;5;28;43mself\u001b[39;49m\u001b[43m.\u001b[49m\u001b[43m_post\u001b[49m\u001b[43m(\u001b[49m\n\u001b[32m    124\u001b[39m \u001b[43m    \u001b[49m\u001b[33;43m\"\u001b[39;49m\u001b[33;43m/files\u001b[39;49m\u001b[33;43m\"\u001b[39;49m\u001b[43m,\u001b[49m\n\u001b[32m    125\u001b[39m \u001b[43m    \u001b[49m\u001b[43mbody\u001b[49m\u001b[43m=\u001b[49m\u001b[43mmaybe_transform\u001b[49m\u001b[43m(\u001b[49m\u001b[43mbody\u001b[49m\u001b[43m,\u001b[49m\u001b[43m \u001b[49m\u001b[43mfile_create_params\u001b[49m\u001b[43m.\u001b[49m\u001b[43mFileCreateParams\u001b[49m\u001b[43m)\u001b[49m\u001b[43m,\u001b[49m\n\u001b[32m    126\u001b[39m \u001b[43m    \u001b[49m\u001b[43mfiles\u001b[49m\u001b[43m=\u001b[49m\u001b[43mfiles\u001b[49m\u001b[43m,\u001b[49m\n\u001b[32m    127\u001b[39m \u001b[43m    \u001b[49m\u001b[43moptions\u001b[49m\u001b[43m=\u001b[49m\u001b[43mmake_request_options\u001b[49m\u001b[43m(\u001b[49m\n\u001b[32m    128\u001b[39m \u001b[43m        \u001b[49m\u001b[43mextra_headers\u001b[49m\u001b[43m=\u001b[49m\u001b[43mextra_headers\u001b[49m\u001b[43m,\u001b[49m\u001b[43m \u001b[49m\u001b[43mextra_query\u001b[49m\u001b[43m=\u001b[49m\u001b[43mextra_query\u001b[49m\u001b[43m,\u001b[49m\u001b[43m \u001b[49m\u001b[43mextra_body\u001b[49m\u001b[43m=\u001b[49m\u001b[43mextra_body\u001b[49m\u001b[43m,\u001b[49m\u001b[43m \u001b[49m\u001b[43mtimeout\u001b[49m\u001b[43m=\u001b[49m\u001b[43mtimeout\u001b[49m\n\u001b[32m    129\u001b[39m \u001b[43m    \u001b[49m\u001b[43m)\u001b[49m\u001b[43m,\u001b[49m\n\u001b[32m    130\u001b[39m \u001b[43m    \u001b[49m\u001b[43mcast_to\u001b[49m\u001b[43m=\u001b[49m\u001b[43mFileObject\u001b[49m\u001b[43m,\u001b[49m\n\u001b[32m    131\u001b[39m \u001b[43m\u001b[49m\u001b[43m)\u001b[49m\n",
      "\u001b[36mFile \u001b[39m\u001b[32mc:\\Users\\JesusCalderon\\work\\dsi_deploying_ai\\.venv\\Lib\\site-packages\\openai\\_base_client.py:1259\u001b[39m, in \u001b[36mSyncAPIClient.post\u001b[39m\u001b[34m(self, path, cast_to, body, options, files, stream, stream_cls)\u001b[39m\n\u001b[32m   1245\u001b[39m \u001b[38;5;28;01mdef\u001b[39;00m\u001b[38;5;250m \u001b[39m\u001b[34mpost\u001b[39m(\n\u001b[32m   1246\u001b[39m     \u001b[38;5;28mself\u001b[39m,\n\u001b[32m   1247\u001b[39m     path: \u001b[38;5;28mstr\u001b[39m,\n\u001b[32m   (...)\u001b[39m\u001b[32m   1254\u001b[39m     stream_cls: \u001b[38;5;28mtype\u001b[39m[_StreamT] | \u001b[38;5;28;01mNone\u001b[39;00m = \u001b[38;5;28;01mNone\u001b[39;00m,\n\u001b[32m   1255\u001b[39m ) -> ResponseT | _StreamT:\n\u001b[32m   1256\u001b[39m     opts = FinalRequestOptions.construct(\n\u001b[32m   1257\u001b[39m         method=\u001b[33m\"\u001b[39m\u001b[33mpost\u001b[39m\u001b[33m\"\u001b[39m, url=path, json_data=body, files=to_httpx_files(files), **options\n\u001b[32m   1258\u001b[39m     )\n\u001b[32m-> \u001b[39m\u001b[32m1259\u001b[39m     \u001b[38;5;28;01mreturn\u001b[39;00m cast(ResponseT, \u001b[38;5;28;43mself\u001b[39;49m\u001b[43m.\u001b[49m\u001b[43mrequest\u001b[49m\u001b[43m(\u001b[49m\u001b[43mcast_to\u001b[49m\u001b[43m,\u001b[49m\u001b[43m \u001b[49m\u001b[43mopts\u001b[49m\u001b[43m,\u001b[49m\u001b[43m \u001b[49m\u001b[43mstream\u001b[49m\u001b[43m=\u001b[49m\u001b[43mstream\u001b[49m\u001b[43m,\u001b[49m\u001b[43m \u001b[49m\u001b[43mstream_cls\u001b[49m\u001b[43m=\u001b[49m\u001b[43mstream_cls\u001b[49m\u001b[43m)\u001b[49m)\n",
      "\u001b[36mFile \u001b[39m\u001b[32mc:\\Users\\JesusCalderon\\work\\dsi_deploying_ai\\.venv\\Lib\\site-packages\\openai\\_base_client.py:982\u001b[39m, in \u001b[36mSyncAPIClient.request\u001b[39m\u001b[34m(self, cast_to, options, stream, stream_cls)\u001b[39m\n\u001b[32m    980\u001b[39m response = \u001b[38;5;28;01mNone\u001b[39;00m\n\u001b[32m    981\u001b[39m \u001b[38;5;28;01mtry\u001b[39;00m:\n\u001b[32m--> \u001b[39m\u001b[32m982\u001b[39m     response = \u001b[38;5;28;43mself\u001b[39;49m\u001b[43m.\u001b[49m\u001b[43m_client\u001b[49m\u001b[43m.\u001b[49m\u001b[43msend\u001b[49m\u001b[43m(\u001b[49m\n\u001b[32m    983\u001b[39m \u001b[43m        \u001b[49m\u001b[43mrequest\u001b[49m\u001b[43m,\u001b[49m\n\u001b[32m    984\u001b[39m \u001b[43m        \u001b[49m\u001b[43mstream\u001b[49m\u001b[43m=\u001b[49m\u001b[43mstream\u001b[49m\u001b[43m \u001b[49m\u001b[38;5;129;43;01mor\u001b[39;49;00m\u001b[43m \u001b[49m\u001b[38;5;28;43mself\u001b[39;49m\u001b[43m.\u001b[49m\u001b[43m_should_stream_response_body\u001b[49m\u001b[43m(\u001b[49m\u001b[43mrequest\u001b[49m\u001b[43m=\u001b[49m\u001b[43mrequest\u001b[49m\u001b[43m)\u001b[49m\u001b[43m,\u001b[49m\n\u001b[32m    985\u001b[39m \u001b[43m        \u001b[49m\u001b[43m*\u001b[49m\u001b[43m*\u001b[49m\u001b[43mkwargs\u001b[49m\u001b[43m,\u001b[49m\n\u001b[32m    986\u001b[39m \u001b[43m    \u001b[49m\u001b[43m)\u001b[49m\n\u001b[32m    987\u001b[39m \u001b[38;5;28;01mexcept\u001b[39;00m httpx.TimeoutException \u001b[38;5;28;01mas\u001b[39;00m err:\n\u001b[32m    988\u001b[39m     log.debug(\u001b[33m\"\u001b[39m\u001b[33mEncountered httpx.TimeoutException\u001b[39m\u001b[33m\"\u001b[39m, exc_info=\u001b[38;5;28;01mTrue\u001b[39;00m)\n",
      "\u001b[36mFile \u001b[39m\u001b[32mc:\\Users\\JesusCalderon\\work\\dsi_deploying_ai\\.venv\\Lib\\site-packages\\httpx\\_client.py:914\u001b[39m, in \u001b[36mClient.send\u001b[39m\u001b[34m(self, request, stream, auth, follow_redirects)\u001b[39m\n\u001b[32m    910\u001b[39m \u001b[38;5;28mself\u001b[39m._set_timeout(request)\n\u001b[32m    912\u001b[39m auth = \u001b[38;5;28mself\u001b[39m._build_request_auth(request, auth)\n\u001b[32m--> \u001b[39m\u001b[32m914\u001b[39m response = \u001b[38;5;28;43mself\u001b[39;49m\u001b[43m.\u001b[49m\u001b[43m_send_handling_auth\u001b[49m\u001b[43m(\u001b[49m\n\u001b[32m    915\u001b[39m \u001b[43m    \u001b[49m\u001b[43mrequest\u001b[49m\u001b[43m,\u001b[49m\n\u001b[32m    916\u001b[39m \u001b[43m    \u001b[49m\u001b[43mauth\u001b[49m\u001b[43m=\u001b[49m\u001b[43mauth\u001b[49m\u001b[43m,\u001b[49m\n\u001b[32m    917\u001b[39m \u001b[43m    \u001b[49m\u001b[43mfollow_redirects\u001b[49m\u001b[43m=\u001b[49m\u001b[43mfollow_redirects\u001b[49m\u001b[43m,\u001b[49m\n\u001b[32m    918\u001b[39m \u001b[43m    \u001b[49m\u001b[43mhistory\u001b[49m\u001b[43m=\u001b[49m\u001b[43m[\u001b[49m\u001b[43m]\u001b[49m\u001b[43m,\u001b[49m\n\u001b[32m    919\u001b[39m \u001b[43m\u001b[49m\u001b[43m)\u001b[49m\n\u001b[32m    920\u001b[39m \u001b[38;5;28;01mtry\u001b[39;00m:\n\u001b[32m    921\u001b[39m     \u001b[38;5;28;01mif\u001b[39;00m \u001b[38;5;129;01mnot\u001b[39;00m stream:\n",
      "\u001b[36mFile \u001b[39m\u001b[32mc:\\Users\\JesusCalderon\\work\\dsi_deploying_ai\\.venv\\Lib\\site-packages\\httpx\\_client.py:942\u001b[39m, in \u001b[36mClient._send_handling_auth\u001b[39m\u001b[34m(self, request, auth, follow_redirects, history)\u001b[39m\n\u001b[32m    939\u001b[39m request = \u001b[38;5;28mnext\u001b[39m(auth_flow)\n\u001b[32m    941\u001b[39m \u001b[38;5;28;01mwhile\u001b[39;00m \u001b[38;5;28;01mTrue\u001b[39;00m:\n\u001b[32m--> \u001b[39m\u001b[32m942\u001b[39m     response = \u001b[38;5;28;43mself\u001b[39;49m\u001b[43m.\u001b[49m\u001b[43m_send_handling_redirects\u001b[49m\u001b[43m(\u001b[49m\n\u001b[32m    943\u001b[39m \u001b[43m        \u001b[49m\u001b[43mrequest\u001b[49m\u001b[43m,\u001b[49m\n\u001b[32m    944\u001b[39m \u001b[43m        \u001b[49m\u001b[43mfollow_redirects\u001b[49m\u001b[43m=\u001b[49m\u001b[43mfollow_redirects\u001b[49m\u001b[43m,\u001b[49m\n\u001b[32m    945\u001b[39m \u001b[43m        \u001b[49m\u001b[43mhistory\u001b[49m\u001b[43m=\u001b[49m\u001b[43mhistory\u001b[49m\u001b[43m,\u001b[49m\n\u001b[32m    946\u001b[39m \u001b[43m    \u001b[49m\u001b[43m)\u001b[49m\n\u001b[32m    947\u001b[39m     \u001b[38;5;28;01mtry\u001b[39;00m:\n\u001b[32m    948\u001b[39m         \u001b[38;5;28;01mtry\u001b[39;00m:\n",
      "\u001b[36mFile \u001b[39m\u001b[32mc:\\Users\\JesusCalderon\\work\\dsi_deploying_ai\\.venv\\Lib\\site-packages\\httpx\\_client.py:979\u001b[39m, in \u001b[36mClient._send_handling_redirects\u001b[39m\u001b[34m(self, request, follow_redirects, history)\u001b[39m\n\u001b[32m    976\u001b[39m \u001b[38;5;28;01mfor\u001b[39;00m hook \u001b[38;5;129;01min\u001b[39;00m \u001b[38;5;28mself\u001b[39m._event_hooks[\u001b[33m\"\u001b[39m\u001b[33mrequest\u001b[39m\u001b[33m\"\u001b[39m]:\n\u001b[32m    977\u001b[39m     hook(request)\n\u001b[32m--> \u001b[39m\u001b[32m979\u001b[39m response = \u001b[38;5;28;43mself\u001b[39;49m\u001b[43m.\u001b[49m\u001b[43m_send_single_request\u001b[49m\u001b[43m(\u001b[49m\u001b[43mrequest\u001b[49m\u001b[43m)\u001b[49m\n\u001b[32m    980\u001b[39m \u001b[38;5;28;01mtry\u001b[39;00m:\n\u001b[32m    981\u001b[39m     \u001b[38;5;28;01mfor\u001b[39;00m hook \u001b[38;5;129;01min\u001b[39;00m \u001b[38;5;28mself\u001b[39m._event_hooks[\u001b[33m\"\u001b[39m\u001b[33mresponse\u001b[39m\u001b[33m\"\u001b[39m]:\n",
      "\u001b[36mFile \u001b[39m\u001b[32mc:\\Users\\JesusCalderon\\work\\dsi_deploying_ai\\.venv\\Lib\\site-packages\\httpx\\_client.py:1014\u001b[39m, in \u001b[36mClient._send_single_request\u001b[39m\u001b[34m(self, request)\u001b[39m\n\u001b[32m   1009\u001b[39m     \u001b[38;5;28;01mraise\u001b[39;00m \u001b[38;5;167;01mRuntimeError\u001b[39;00m(\n\u001b[32m   1010\u001b[39m         \u001b[33m\"\u001b[39m\u001b[33mAttempted to send an async request with a sync Client instance.\u001b[39m\u001b[33m\"\u001b[39m\n\u001b[32m   1011\u001b[39m     )\n\u001b[32m   1013\u001b[39m \u001b[38;5;28;01mwith\u001b[39;00m request_context(request=request):\n\u001b[32m-> \u001b[39m\u001b[32m1014\u001b[39m     response = \u001b[43mtransport\u001b[49m\u001b[43m.\u001b[49m\u001b[43mhandle_request\u001b[49m\u001b[43m(\u001b[49m\u001b[43mrequest\u001b[49m\u001b[43m)\u001b[49m\n\u001b[32m   1016\u001b[39m \u001b[38;5;28;01massert\u001b[39;00m \u001b[38;5;28misinstance\u001b[39m(response.stream, SyncByteStream)\n\u001b[32m   1018\u001b[39m response.request = request\n",
      "\u001b[36mFile \u001b[39m\u001b[32mc:\\Users\\JesusCalderon\\work\\dsi_deploying_ai\\.venv\\Lib\\site-packages\\httpx\\_transports\\default.py:250\u001b[39m, in \u001b[36mHTTPTransport.handle_request\u001b[39m\u001b[34m(self, request)\u001b[39m\n\u001b[32m    237\u001b[39m req = httpcore.Request(\n\u001b[32m    238\u001b[39m     method=request.method,\n\u001b[32m    239\u001b[39m     url=httpcore.URL(\n\u001b[32m   (...)\u001b[39m\u001b[32m    247\u001b[39m     extensions=request.extensions,\n\u001b[32m    248\u001b[39m )\n\u001b[32m    249\u001b[39m \u001b[38;5;28;01mwith\u001b[39;00m map_httpcore_exceptions():\n\u001b[32m--> \u001b[39m\u001b[32m250\u001b[39m     resp = \u001b[38;5;28;43mself\u001b[39;49m\u001b[43m.\u001b[49m\u001b[43m_pool\u001b[49m\u001b[43m.\u001b[49m\u001b[43mhandle_request\u001b[49m\u001b[43m(\u001b[49m\u001b[43mreq\u001b[49m\u001b[43m)\u001b[49m\n\u001b[32m    252\u001b[39m \u001b[38;5;28;01massert\u001b[39;00m \u001b[38;5;28misinstance\u001b[39m(resp.stream, typing.Iterable)\n\u001b[32m    254\u001b[39m \u001b[38;5;28;01mreturn\u001b[39;00m Response(\n\u001b[32m    255\u001b[39m     status_code=resp.status,\n\u001b[32m    256\u001b[39m     headers=resp.headers,\n\u001b[32m    257\u001b[39m     stream=ResponseStream(resp.stream),\n\u001b[32m    258\u001b[39m     extensions=resp.extensions,\n\u001b[32m    259\u001b[39m )\n",
      "\u001b[36mFile \u001b[39m\u001b[32mc:\\Users\\JesusCalderon\\work\\dsi_deploying_ai\\.venv\\Lib\\site-packages\\httpcore\\_sync\\connection_pool.py:256\u001b[39m, in \u001b[36mConnectionPool.handle_request\u001b[39m\u001b[34m(self, request)\u001b[39m\n\u001b[32m    253\u001b[39m         closing = \u001b[38;5;28mself\u001b[39m._assign_requests_to_connections()\n\u001b[32m    255\u001b[39m     \u001b[38;5;28mself\u001b[39m._close_connections(closing)\n\u001b[32m--> \u001b[39m\u001b[32m256\u001b[39m     \u001b[38;5;28;01mraise\u001b[39;00m exc \u001b[38;5;28;01mfrom\u001b[39;00m\u001b[38;5;250m \u001b[39m\u001b[38;5;28;01mNone\u001b[39;00m\n\u001b[32m    258\u001b[39m \u001b[38;5;66;03m# Return the response. Note that in this case we still have to manage\u001b[39;00m\n\u001b[32m    259\u001b[39m \u001b[38;5;66;03m# the point at which the response is closed.\u001b[39;00m\n\u001b[32m    260\u001b[39m \u001b[38;5;28;01massert\u001b[39;00m \u001b[38;5;28misinstance\u001b[39m(response.stream, typing.Iterable)\n",
      "\u001b[36mFile \u001b[39m\u001b[32mc:\\Users\\JesusCalderon\\work\\dsi_deploying_ai\\.venv\\Lib\\site-packages\\httpcore\\_sync\\connection_pool.py:236\u001b[39m, in \u001b[36mConnectionPool.handle_request\u001b[39m\u001b[34m(self, request)\u001b[39m\n\u001b[32m    232\u001b[39m connection = pool_request.wait_for_connection(timeout=timeout)\n\u001b[32m    234\u001b[39m \u001b[38;5;28;01mtry\u001b[39;00m:\n\u001b[32m    235\u001b[39m     \u001b[38;5;66;03m# Send the request on the assigned connection.\u001b[39;00m\n\u001b[32m--> \u001b[39m\u001b[32m236\u001b[39m     response = \u001b[43mconnection\u001b[49m\u001b[43m.\u001b[49m\u001b[43mhandle_request\u001b[49m\u001b[43m(\u001b[49m\n\u001b[32m    237\u001b[39m \u001b[43m        \u001b[49m\u001b[43mpool_request\u001b[49m\u001b[43m.\u001b[49m\u001b[43mrequest\u001b[49m\n\u001b[32m    238\u001b[39m \u001b[43m    \u001b[49m\u001b[43m)\u001b[49m\n\u001b[32m    239\u001b[39m \u001b[38;5;28;01mexcept\u001b[39;00m ConnectionNotAvailable:\n\u001b[32m    240\u001b[39m     \u001b[38;5;66;03m# In some cases a connection may initially be available to\u001b[39;00m\n\u001b[32m    241\u001b[39m     \u001b[38;5;66;03m# handle a request, but then become unavailable.\u001b[39;00m\n\u001b[32m    242\u001b[39m     \u001b[38;5;66;03m#\u001b[39;00m\n\u001b[32m    243\u001b[39m     \u001b[38;5;66;03m# In this case we clear the connection and try again.\u001b[39;00m\n\u001b[32m    244\u001b[39m     pool_request.clear_connection()\n",
      "\u001b[36mFile \u001b[39m\u001b[32mc:\\Users\\JesusCalderon\\work\\dsi_deploying_ai\\.venv\\Lib\\site-packages\\httpcore\\_sync\\connection.py:103\u001b[39m, in \u001b[36mHTTPConnection.handle_request\u001b[39m\u001b[34m(self, request)\u001b[39m\n\u001b[32m    100\u001b[39m     \u001b[38;5;28mself\u001b[39m._connect_failed = \u001b[38;5;28;01mTrue\u001b[39;00m\n\u001b[32m    101\u001b[39m     \u001b[38;5;28;01mraise\u001b[39;00m exc\n\u001b[32m--> \u001b[39m\u001b[32m103\u001b[39m \u001b[38;5;28;01mreturn\u001b[39;00m \u001b[38;5;28;43mself\u001b[39;49m\u001b[43m.\u001b[49m\u001b[43m_connection\u001b[49m\u001b[43m.\u001b[49m\u001b[43mhandle_request\u001b[49m\u001b[43m(\u001b[49m\u001b[43mrequest\u001b[49m\u001b[43m)\u001b[49m\n",
      "\u001b[36mFile \u001b[39m\u001b[32mc:\\Users\\JesusCalderon\\work\\dsi_deploying_ai\\.venv\\Lib\\site-packages\\httpcore\\_sync\\http11.py:136\u001b[39m, in \u001b[36mHTTP11Connection.handle_request\u001b[39m\u001b[34m(self, request)\u001b[39m\n\u001b[32m    134\u001b[39m     \u001b[38;5;28;01mwith\u001b[39;00m Trace(\u001b[33m\"\u001b[39m\u001b[33mresponse_closed\u001b[39m\u001b[33m\"\u001b[39m, logger, request) \u001b[38;5;28;01mas\u001b[39;00m trace:\n\u001b[32m    135\u001b[39m         \u001b[38;5;28mself\u001b[39m._response_closed()\n\u001b[32m--> \u001b[39m\u001b[32m136\u001b[39m \u001b[38;5;28;01mraise\u001b[39;00m exc\n",
      "\u001b[36mFile \u001b[39m\u001b[32mc:\\Users\\JesusCalderon\\work\\dsi_deploying_ai\\.venv\\Lib\\site-packages\\httpcore\\_sync\\http11.py:88\u001b[39m, in \u001b[36mHTTP11Connection.handle_request\u001b[39m\u001b[34m(self, request)\u001b[39m\n\u001b[32m     86\u001b[39m         \u001b[38;5;28mself\u001b[39m._send_request_headers(**kwargs)\n\u001b[32m     87\u001b[39m     \u001b[38;5;28;01mwith\u001b[39;00m Trace(\u001b[33m\"\u001b[39m\u001b[33msend_request_body\u001b[39m\u001b[33m\"\u001b[39m, logger, request, kwargs) \u001b[38;5;28;01mas\u001b[39;00m trace:\n\u001b[32m---> \u001b[39m\u001b[32m88\u001b[39m         \u001b[38;5;28;43mself\u001b[39;49m\u001b[43m.\u001b[49m\u001b[43m_send_request_body\u001b[49m\u001b[43m(\u001b[49m\u001b[43m*\u001b[49m\u001b[43m*\u001b[49m\u001b[43mkwargs\u001b[49m\u001b[43m)\u001b[49m\n\u001b[32m     89\u001b[39m \u001b[38;5;28;01mexcept\u001b[39;00m WriteError:\n\u001b[32m     90\u001b[39m     \u001b[38;5;66;03m# If we get a write error while we're writing the request,\u001b[39;00m\n\u001b[32m     91\u001b[39m     \u001b[38;5;66;03m# then we supress this error and move on to attempting to\u001b[39;00m\n\u001b[32m     92\u001b[39m     \u001b[38;5;66;03m# read the response. Servers can sometimes close the request\u001b[39;00m\n\u001b[32m     93\u001b[39m     \u001b[38;5;66;03m# pre-emptively and then respond with a well formed HTTP\u001b[39;00m\n\u001b[32m     94\u001b[39m     \u001b[38;5;66;03m# error response.\u001b[39;00m\n\u001b[32m     95\u001b[39m     \u001b[38;5;28;01mpass\u001b[39;00m\n",
      "\u001b[36mFile \u001b[39m\u001b[32mc:\\Users\\JesusCalderon\\work\\dsi_deploying_ai\\.venv\\Lib\\site-packages\\httpcore\\_sync\\http11.py:159\u001b[39m, in \u001b[36mHTTP11Connection._send_request_body\u001b[39m\u001b[34m(self, request)\u001b[39m\n\u001b[32m    157\u001b[39m \u001b[38;5;28;01mfor\u001b[39;00m chunk \u001b[38;5;129;01min\u001b[39;00m request.stream:\n\u001b[32m    158\u001b[39m     event = h11.Data(data=chunk)\n\u001b[32m--> \u001b[39m\u001b[32m159\u001b[39m     \u001b[38;5;28;43mself\u001b[39;49m\u001b[43m.\u001b[49m\u001b[43m_send_event\u001b[49m\u001b[43m(\u001b[49m\u001b[43mevent\u001b[49m\u001b[43m,\u001b[49m\u001b[43m \u001b[49m\u001b[43mtimeout\u001b[49m\u001b[43m=\u001b[49m\u001b[43mtimeout\u001b[49m\u001b[43m)\u001b[49m\n\u001b[32m    161\u001b[39m \u001b[38;5;28mself\u001b[39m._send_event(h11.EndOfMessage(), timeout=timeout)\n",
      "\u001b[36mFile \u001b[39m\u001b[32mc:\\Users\\JesusCalderon\\work\\dsi_deploying_ai\\.venv\\Lib\\site-packages\\httpcore\\_sync\\http11.py:166\u001b[39m, in \u001b[36mHTTP11Connection._send_event\u001b[39m\u001b[34m(self, event, timeout)\u001b[39m\n\u001b[32m    164\u001b[39m bytes_to_send = \u001b[38;5;28mself\u001b[39m._h11_state.send(event)\n\u001b[32m    165\u001b[39m \u001b[38;5;28;01mif\u001b[39;00m bytes_to_send \u001b[38;5;129;01mis\u001b[39;00m \u001b[38;5;129;01mnot\u001b[39;00m \u001b[38;5;28;01mNone\u001b[39;00m:\n\u001b[32m--> \u001b[39m\u001b[32m166\u001b[39m     \u001b[38;5;28;43mself\u001b[39;49m\u001b[43m.\u001b[49m\u001b[43m_network_stream\u001b[49m\u001b[43m.\u001b[49m\u001b[43mwrite\u001b[49m\u001b[43m(\u001b[49m\u001b[43mbytes_to_send\u001b[49m\u001b[43m,\u001b[49m\u001b[43m \u001b[49m\u001b[43mtimeout\u001b[49m\u001b[43m=\u001b[49m\u001b[43mtimeout\u001b[49m\u001b[43m)\u001b[49m\n",
      "\u001b[36mFile \u001b[39m\u001b[32mc:\\Users\\JesusCalderon\\work\\dsi_deploying_ai\\.venv\\Lib\\site-packages\\httpcore\\_backends\\sync.py:138\u001b[39m, in \u001b[36mSyncStream.write\u001b[39m\u001b[34m(self, buffer, timeout)\u001b[39m\n\u001b[32m    136\u001b[39m \u001b[38;5;28;01mwhile\u001b[39;00m buffer:\n\u001b[32m    137\u001b[39m     \u001b[38;5;28mself\u001b[39m._sock.settimeout(timeout)\n\u001b[32m--> \u001b[39m\u001b[32m138\u001b[39m     n = \u001b[38;5;28;43mself\u001b[39;49m\u001b[43m.\u001b[49m\u001b[43m_sock\u001b[49m\u001b[43m.\u001b[49m\u001b[43msend\u001b[49m\u001b[43m(\u001b[49m\u001b[43mbuffer\u001b[49m\u001b[43m)\u001b[49m\n\u001b[32m    139\u001b[39m     buffer = buffer[n:]\n",
      "\u001b[36mFile \u001b[39m\u001b[32mC:\\Program Files\\Python312\\Lib\\ssl.py:1179\u001b[39m, in \u001b[36mSSLSocket.send\u001b[39m\u001b[34m(self, data, flags)\u001b[39m\n\u001b[32m   1175\u001b[39m     \u001b[38;5;28;01mif\u001b[39;00m flags != \u001b[32m0\u001b[39m:\n\u001b[32m   1176\u001b[39m         \u001b[38;5;28;01mraise\u001b[39;00m \u001b[38;5;167;01mValueError\u001b[39;00m(\n\u001b[32m   1177\u001b[39m             \u001b[33m\"\u001b[39m\u001b[33mnon-zero flags not allowed in calls to send() on \u001b[39m\u001b[38;5;132;01m%s\u001b[39;00m\u001b[33m\"\u001b[39m %\n\u001b[32m   1178\u001b[39m             \u001b[38;5;28mself\u001b[39m.\u001b[34m__class__\u001b[39m)\n\u001b[32m-> \u001b[39m\u001b[32m1179\u001b[39m     \u001b[38;5;28;01mreturn\u001b[39;00m \u001b[38;5;28;43mself\u001b[39;49m\u001b[43m.\u001b[49m\u001b[43m_sslobj\u001b[49m\u001b[43m.\u001b[49m\u001b[43mwrite\u001b[49m\u001b[43m(\u001b[49m\u001b[43mdata\u001b[49m\u001b[43m)\u001b[49m\n\u001b[32m   1180\u001b[39m \u001b[38;5;28;01melse\u001b[39;00m:\n\u001b[32m   1181\u001b[39m     \u001b[38;5;28;01mreturn\u001b[39;00m \u001b[38;5;28msuper\u001b[39m().send(data, flags)\n",
      "\u001b[31mKeyboardInterrupt\u001b[39m: "
     ]
    }
   ],
   "source": [
    "from openai import OpenAI\n",
    "from tqdm import tqdm\n",
    "client = OpenAI()\n",
    "\n",
    "\n",
    "for b_file in tqdm(batch_files):\n",
    "    batch_input_file = client.files.create(\n",
    "        file=open(b_file, \"rb\"), \n",
    "        purpose='batch'\n",
    "    )\n",
    "    print(batch_input_file)"
   ]
  },
  {
   "cell_type": "code",
   "execution_count": 11,
   "id": "c844d053",
   "metadata": {},
   "outputs": [],
   "source": [
    "from openai import OpenAI\n",
    "client = OpenAI()\n",
    "\n",
    "my_files = client.files.list().to_dict()\n",
    "file_ids = [file['id'] for file in my_files['data']]"
   ]
  },
  {
   "cell_type": "code",
   "execution_count": 12,
   "id": "b0e1b226",
   "metadata": {},
   "outputs": [
    {
     "data": {
      "text/plain": [
       "['file-WhSUccy96odJzMfoRuM2i7',\n",
       " 'file-FTq9RsT65xWZyrVQExttJ2',\n",
       " 'file-NFcTFR5oAt2GCU7mr1vgZr',\n",
       " 'file-2xdCe69XzkfQG4kcpbAusw',\n",
       " 'file-6iM8nbyPQFybjTfNoqXVj3']"
      ]
     },
     "execution_count": 12,
     "metadata": {},
     "output_type": "execute_result"
    }
   ],
   "source": [
    "file_ids"
   ]
  },
  {
   "cell_type": "code",
   "execution_count": 13,
   "id": "3037ef31",
   "metadata": {},
   "outputs": [
    {
     "name": "stderr",
     "output_type": "stream",
     "text": [
      "100%|██████████| 5/5 [00:02<00:00,  2.39it/s]\n"
     ]
    }
   ],
   "source": [
    "client = OpenAI()\n",
    "\n",
    "for file_id in tqdm(file_ids):\n",
    "    client.batches.create(\n",
    "            input_file_id = file_id,\n",
    "            endpoint=\"/v1/embeddings\",\n",
    "            completion_window=\"24h\",\n",
    "            metadata={\n",
    "                \"description\": \"Pitchfork reviews content embeddings\"\n",
    "            }\n",
    "        )"
   ]
  },
  {
   "cell_type": "code",
   "execution_count": null,
   "id": "9cad629c",
   "metadata": {},
   "outputs": [],
   "source": [
    "my_batches = client.batches.list().to_dict()\n",
    "batches_ids = [batch['id'] for batch in my_batches['data']]"
   ]
  },
  {
   "cell_type": "code",
   "execution_count": null,
   "id": "98a5a875",
   "metadata": {},
   "outputs": [],
   "source": [
    "batches_ids"
   ]
  },
  {
   "cell_type": "code",
   "execution_count": null,
   "id": "0807517d",
   "metadata": {},
   "outputs": [],
   "source": [
    "for batch_id in tqdm(batches_ids):\n",
    "    batch = client.batches.retrieve(batch_id)\n",
    "    print(f'batch id: {batch.to_dict()['id']}')\n",
    "    print(f'batch status: {batch.to_dict()['status']}')    \n",
    "    print(f'batch request counts: {batch.to_dict()['request_counts']}')\n",
    "    print(f'output file id: {batch.to_dict()['output_file_id']}')\n",
    "    print(\"\\n\\n\")"
   ]
  },
  {
   "cell_type": "code",
   "execution_count": null,
   "id": "c7ee780b",
   "metadata": {},
   "outputs": [],
   "source": [
    "file_response = client.files.content(batch.to_dict()['output_file_id'])\n"
   ]
  },
  {
   "cell_type": "code",
   "execution_count": null,
   "id": "f7f02da5",
   "metadata": {},
   "outputs": [],
   "source": [
    "text_response = file_respose.text"
   ]
  },
  {
   "cell_type": "code",
   "execution_count": null,
   "id": "c4671042",
   "metadata": {},
   "outputs": [],
   "source": [
    "for lines in file_response.text.split(\"\\n\"):\n",
    "    if lines.strip():\n",
    "        record = json.loads(lines)\n",
    "        embedding = record['embedding']\n",
    "        metadata = {\n",
    "            \"custom_id\": record['custom_id']\n",
    "        }\n",
    "        collection.add(\n",
    "            documents=[record['input']],\n",
    "            embeddings=[embedding],\n",
    "            metadatas=[metadata],\n",
    "            ids=[record['custom_id']]\n",
    "        )"
   ]
  },
  {
   "cell_type": "code",
   "execution_count": null,
   "id": "5f6874c8",
   "metadata": {},
   "outputs": [],
   "source": [
    "print(batch.to_dict()['output_file_id'])"
   ]
  },
  {
   "cell_type": "code",
   "execution_count": null,
   "id": "634eeb2f",
   "metadata": {},
   "outputs": [],
   "source": [
    "def query_chromadb(query, top_n=2):\n",
    "    query_embedding = get_embedding(query)\n",
    "    results = collection.query(\n",
    "        query_embeddings = [query_embedding],\n",
    "        n_results = top_n\n",
    "    )\n",
    "    return [(id, score, text) for id, score, text in zip(results['ids'][0], results['distances'][0], results['documents'][0])]"
   ]
  },
  {
   "cell_type": "code",
   "execution_count": null,
   "id": "fb75e0af",
   "metadata": {},
   "outputs": [],
   "source": [
    "collection.add(\n",
    "    embeddings = embeddings,\n",
    "    documents = documents, \n",
    "    ids = ids\n",
    ")"
   ]
  },
  {
   "cell_type": "code",
   "execution_count": null,
   "id": "bb9910e6",
   "metadata": {},
   "outputs": [],
   "source": [
    "query_chromadb(\"Are bats blind?\", top_n=3)"
   ]
  },
  {
   "cell_type": "markdown",
   "id": "ac15b85d",
   "metadata": {},
   "source": [
    "# Tokenization"
   ]
  },
  {
   "cell_type": "code",
   "execution_count": null,
   "id": "c18d7386",
   "metadata": {},
   "outputs": [],
   "source": [
    "from langchain.text_splitter import CharacterTextSplitter\n",
    "text_splitter = CharacterTextSplitter.from_tiktoken_encoder(\n",
    "    chunk_size = 100, chunk_overlap=10\n",
    ")"
   ]
  },
  {
   "cell_type": "code",
   "execution_count": null,
   "id": "c1decd5b",
   "metadata": {},
   "outputs": [],
   "source": [
    "documents = text_splitter.split_documents(data)"
   ]
  },
  {
   "cell_type": "code",
   "execution_count": null,
   "id": "a3da8dcd",
   "metadata": {},
   "outputs": [],
   "source": [
    "documents = [doc for doc in documents]"
   ]
  },
  {
   "cell_type": "code",
   "execution_count": null,
   "id": "6f8f421d",
   "metadata": {},
   "outputs": [],
   "source": [
    "from langchain.vectorstores import Chroma\n",
    "\n",
    "db = Chroma.from_documents(documents, OpenAIEmbeddings())"
   ]
  },
  {
   "cell_type": "code",
   "execution_count": null,
   "id": "70672ca3",
   "metadata": {},
   "outputs": [],
   "source": [
    "def query_documents(query, top_n=2):\n",
    "    docs = db.similarity_search(query, top_n)\n",
    "    return docs"
   ]
  },
  {
   "cell_type": "code",
   "execution_count": null,
   "id": "f3c26ce1",
   "metadata": {},
   "outputs": [],
   "source": [
    "query_documents(\"Are bats blind?\")"
   ]
  }
 ],
 "metadata": {
  "kernelspec": {
   "display_name": ".venv",
   "language": "python",
   "name": "python3"
  },
  "language_info": {
   "codemirror_mode": {
    "name": "ipython",
    "version": 3
   },
   "file_extension": ".py",
   "mimetype": "text/x-python",
   "name": "python",
   "nbconvert_exporter": "python",
   "pygments_lexer": "ipython3",
   "version": "3.12.7"
  }
 },
 "nbformat": 4,
 "nbformat_minor": 5
}
