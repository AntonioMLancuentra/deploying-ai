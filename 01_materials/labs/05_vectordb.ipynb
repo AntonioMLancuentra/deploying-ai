{
 "cells": [
  {
   "cell_type": "code",
   "execution_count": 1,
   "id": "02ef1d71",
   "metadata": {},
   "outputs": [],
   "source": [
    "%load_ext dotenv\n",
    "%dotenv ../../05_src/.secrets"
   ]
  },
  {
   "cell_type": "code",
   "execution_count": 2,
   "id": "18829604",
   "metadata": {},
   "outputs": [],
   "source": [
    "import os\n",
    "from openai import OpenAI\n",
    "import pandas as pd\n",
    "import numpy as np"
   ]
  },
  {
   "cell_type": "code",
   "execution_count": 3,
   "id": "b1782934",
   "metadata": {},
   "outputs": [],
   "source": [
    "OPENAI_API_KEY = os.getenv(\"OPENAI_API_KEY\")\n",
    "if not OPENAI_API_KEY:\n",
    "    raise ValueError(\"OPENAI_API_KEY not found in environment variables\")\n",
    "else:\n",
    "    client = OpenAI(api_key = OPENAI_API_KEY)"
   ]
  },
  {
   "cell_type": "code",
   "execution_count": 4,
   "id": "2d2f6611",
   "metadata": {},
   "outputs": [],
   "source": [
    "def get_embedding(text, model=\"text-embedding-ada-002\"):\n",
    "    text = text.replace(\"\\n\", \" \")\n",
    "    return client.embeddings.create(input=[text], model=model).data[0].embedding"
   ]
  },
  {
   "cell_type": "code",
   "execution_count": 5,
   "id": "f6d6017d",
   "metadata": {},
   "outputs": [],
   "source": [
    "documents = [\n",
    "    # Freedom\n",
    "    \"Freedom consists not in doing what we like, but in having the right to do what we ought.\",\n",
    "    \"Those who deny freedom to others deserve it not for themselves.\",\n",
    "    \"Liberty, when it begins to take root, is a plant of rapid growth.\",\n",
    "    \"Freedom lies in being bold.\",\n",
    "    \"Is freedom anything else than the right to live as we wish?\",\n",
    "    \"I am no bird and no net ensnares me: I am a free human being with an independent will.\",\n",
    "    \"The secret to happiness is freedom... And the secret to freedom is courage.\"\n",
    "    \"Freedom is the oxygen of the soul.\", \n",
    "    \"Life without liberty is like a body without spirit.\"\n",
    "    # Friendship\n",
    "    \"There is nothing on this earth more to be prized than true friendship.\",\n",
    "    \"There are no strangers here; Only friends you haven’t yet met.\",\n",
    "    \"Friendship is the only cement that will ever hold the world together.\",\n",
    "    \"A true friend is someone who is there for you when he'd rather be anywhere else.\",\n",
    "    \"Friendship is the golden thread that ties the heart of all the world.\", \n",
    "    \"Your friend is the man who knows all about you and still likes you.\",\n",
    "    \"A single rose can be my garden... a single friend, my world.\"\n",
    "]"
   ]
  },
  {
   "cell_type": "code",
   "execution_count": null,
   "id": "4a094372",
   "metadata": {},
   "outputs": [],
   "source": [
    "embeddings = [get_embedding(doc) for doc in documents]\n"
   ]
  },
  {
   "cell_type": "code",
   "execution_count": 7,
   "id": "d4ec446d",
   "metadata": {},
   "outputs": [],
   "source": [
    "ids = [f\"id{i}\" for i in range(len(documents))]"
   ]
  },
  {
   "cell_type": "markdown",
   "id": "cc994ef1",
   "metadata": {},
   "source": [
    "Reference: [chromadb](https://cookbook.chromadb.dev/running/running-chroma/#chroma-cli)"
   ]
  },
  {
   "cell_type": "code",
   "execution_count": 11,
   "id": "041b7158",
   "metadata": {},
   "outputs": [],
   "source": [
    "import chromadb\n",
    "from chromadb.config import Settings\n",
    "\n",
    "chroma_client = chromadb.HttpClient(host=\"http://127.0.0.1:8000\")"
   ]
  },
  {
   "cell_type": "code",
   "execution_count": 12,
   "id": "4eb6c0a2",
   "metadata": {},
   "outputs": [],
   "source": [
    "collection = chroma_client.create_collection(name = \"good_vibe_documents\")\n",
    "collection.add(embeddings = embeddings, \n",
    "               documents = documents, \n",
    "               ids = ids)"
   ]
  },
  {
   "cell_type": "code",
   "execution_count": 13,
   "id": "fcfeae28",
   "metadata": {},
   "outputs": [],
   "source": [
    "def query_chromadb(query, top_n = 2):\n",
    "    query_embedding = get_embedding(query)\n",
    "    results = collection.query(query_embeddings = [query_embedding], n_results = top_n)\n",
    "    return [(id, score, text) for id, score, text in zip(results['ids'][0], results['distances'][0], results['documents'][0])]"
   ]
  },
  {
   "cell_type": "code",
   "execution_count": 15,
   "id": "455758cd",
   "metadata": {},
   "outputs": [
    {
     "data": {
      "text/plain": [
       "[('id6',\n",
       "  0.31745452,\n",
       "  'The secret to happiness is freedom... And the secret to freedom is courage.Freedom is the oxygen of the soul.'),\n",
       " ('id4',\n",
       "  0.39661333,\n",
       "  'Is freedom anything else than the right to live as we wish?'),\n",
       " ('id11',\n",
       "  0.4249202,\n",
       "  'Friendship is the golden thread that ties the heart of all the world.')]"
      ]
     },
     "execution_count": 15,
     "metadata": {},
     "output_type": "execute_result"
    }
   ],
   "source": [
    "query = \"What is a happiness?\"\n",
    "\n",
    "query_chromadb(query, top_n=3)"
   ]
  }
 ],
 "metadata": {
  "kernelspec": {
   "display_name": ".venv",
   "language": "python",
   "name": "python3"
  },
  "language_info": {
   "codemirror_mode": {
    "name": "ipython",
    "version": 3
   },
   "file_extension": ".py",
   "mimetype": "text/x-python",
   "name": "python",
   "nbconvert_exporter": "python",
   "pygments_lexer": "ipython3",
   "version": "3.12.7"
  }
 },
 "nbformat": 4,
 "nbformat_minor": 5
}
